{
  "nbformat": 4,
  "nbformat_minor": 0,
  "metadata": {
    "colab": {
      "name": "Moringa_Data_Science_Prep_W2_Independent_Project_2021_08_Iain_Mosima_Python_Notebook.ipynb",
      "provenance": [],
      "collapsed_sections": [],
      "toc_visible": true
    },
    "kernelspec": {
      "name": "python3",
      "display_name": "Python 3"
    },
    "language_info": {
      "name": "python"
    }
  },
  "cells": [
    {
      "cell_type": "markdown",
      "metadata": {
        "id": "ucxH8eiU7CMI"
      },
      "source": [
        "# Overview\n",
        "In this week's independent project, you will be working as a data scientist working for an electric car-sharing service company. You have been tasked to process stations data to understand electric car usage over time by solving for the following research question;\n",
        "\n",
        "**Research Question**\n",
        "* Identify the most popular hour of the day for picking up a shared electric car (Bluecar) in the city of Paris over the month of April 2018.\n",
        "\n",
        "**Bonus Questions (Optional)**\n",
        "* What is the most popular hour for returning cars?\n",
        "* What station is the most popular?\n",
        "    * Overall?\n",
        "    * At the most popular picking hour?\n",
        "\n",
        "* What postal code is the most popular for picking up Blue cars? Does the most popular station belong to that postal code?\n",
        "    * Overall?\n",
        "    * At the most popular picking hour?\n",
        "Do the results change if you consider Utilib and Utilib 1.4 instead of Blue cars? "
      ]
    },
    {
      "cell_type": "markdown",
      "metadata": {
        "id": "yw3dgwKTDVrQ"
      },
      "source": [
        "## 1.0 Importing libraries to be used"
      ]
    },
    {
      "cell_type": "code",
      "metadata": {
        "id": "meSOOI9hDbXC"
      },
      "source": [
        "# Importing pandas\n",
        "import pandas as pd\n",
        "# Importing numpy\n",
        "import numpy as np"
      ],
      "execution_count": 571,
      "outputs": []
    },
    {
      "cell_type": "markdown",
      "metadata": {
        "id": "M75Y0s-2D2w3"
      },
      "source": [
        "## 2.0 Loading the dataset"
      ]
    },
    {
      "cell_type": "code",
      "metadata": {
        "id": "fNH54zs_D6bd"
      },
      "source": [
        "# Importing the autolib_dataset into the environment\n",
        "df = pd.read_csv('/content/Autolib_dataset .csv')"
      ],
      "execution_count": 572,
      "outputs": []
    },
    {
      "cell_type": "markdown",
      "metadata": {
        "id": "KcItlUBDEXUc"
      },
      "source": [
        "### 2.1 Previewing the dataet"
      ]
    },
    {
      "cell_type": "code",
      "metadata": {
        "colab": {
          "base_uri": "https://localhost:8080/",
          "height": 773
        },
        "id": "p-cmu7XkEdXP",
        "outputId": "61f6900d-0f6e-4a0d-e5f7-8abe800faf07"
      },
      "source": [
        "# previewing the first 10 rows\n",
        "df"
      ],
      "execution_count": 573,
      "outputs": [
        {
          "output_type": "execute_result",
          "data": {
            "text/html": [
              "<div>\n",
              "<style scoped>\n",
              "    .dataframe tbody tr th:only-of-type {\n",
              "        vertical-align: middle;\n",
              "    }\n",
              "\n",
              "    .dataframe tbody tr th {\n",
              "        vertical-align: top;\n",
              "    }\n",
              "\n",
              "    .dataframe thead th {\n",
              "        text-align: right;\n",
              "    }\n",
              "</style>\n",
              "<table border=\"1\" class=\"dataframe\">\n",
              "  <thead>\n",
              "    <tr style=\"text-align: right;\">\n",
              "      <th></th>\n",
              "      <th>Address</th>\n",
              "      <th>Cars</th>\n",
              "      <th>Bluecar counter</th>\n",
              "      <th>Utilib counter</th>\n",
              "      <th>Utilib 1.4 counter</th>\n",
              "      <th>Charge Slots</th>\n",
              "      <th>Charging Status</th>\n",
              "      <th>City</th>\n",
              "      <th>Displayed comment</th>\n",
              "      <th>ID</th>\n",
              "      <th>Kind</th>\n",
              "      <th>Geo point</th>\n",
              "      <th>Postal code</th>\n",
              "      <th>Public name</th>\n",
              "      <th>Rental status</th>\n",
              "      <th>Scheduled at</th>\n",
              "      <th>Slots</th>\n",
              "      <th>Station type</th>\n",
              "      <th>Status</th>\n",
              "      <th>Subscription status</th>\n",
              "      <th>year</th>\n",
              "      <th>month</th>\n",
              "      <th>day</th>\n",
              "      <th>hour</th>\n",
              "      <th>minute</th>\n",
              "    </tr>\n",
              "  </thead>\n",
              "  <tbody>\n",
              "    <tr>\n",
              "      <th>0</th>\n",
              "      <td>2 Avenue de Suffren</td>\n",
              "      <td>0</td>\n",
              "      <td>0</td>\n",
              "      <td>0</td>\n",
              "      <td>0</td>\n",
              "      <td>0</td>\n",
              "      <td>nonexistent</td>\n",
              "      <td>Paris</td>\n",
              "      <td>NaN</td>\n",
              "      <td>paris-suffren-2</td>\n",
              "      <td>STATION</td>\n",
              "      <td>48.857, 2.2917</td>\n",
              "      <td>75015</td>\n",
              "      <td>Paris/Suffren/2</td>\n",
              "      <td>operational</td>\n",
              "      <td>NaN</td>\n",
              "      <td>2</td>\n",
              "      <td>station</td>\n",
              "      <td>ok</td>\n",
              "      <td>nonexistent</td>\n",
              "      <td>2018</td>\n",
              "      <td>4</td>\n",
              "      <td>8</td>\n",
              "      <td>11</td>\n",
              "      <td>43</td>\n",
              "    </tr>\n",
              "    <tr>\n",
              "      <th>1</th>\n",
              "      <td>145 Rue Raymond Losserand</td>\n",
              "      <td>6</td>\n",
              "      <td>6</td>\n",
              "      <td>0</td>\n",
              "      <td>0</td>\n",
              "      <td>0</td>\n",
              "      <td>operational</td>\n",
              "      <td>Paris</td>\n",
              "      <td>NaN</td>\n",
              "      <td>paris-raymondlosserand-145</td>\n",
              "      <td>STATION</td>\n",
              "      <td>48.83126, 2.313088</td>\n",
              "      <td>75014</td>\n",
              "      <td>Paris/Raymond Losserand/145</td>\n",
              "      <td>operational</td>\n",
              "      <td>NaN</td>\n",
              "      <td>0</td>\n",
              "      <td>station</td>\n",
              "      <td>ok</td>\n",
              "      <td>nonexistent</td>\n",
              "      <td>2018</td>\n",
              "      <td>4</td>\n",
              "      <td>6</td>\n",
              "      <td>7</td>\n",
              "      <td>24</td>\n",
              "    </tr>\n",
              "    <tr>\n",
              "      <th>2</th>\n",
              "      <td>2 Avenue John Fitzgerald Kennedy</td>\n",
              "      <td>3</td>\n",
              "      <td>3</td>\n",
              "      <td>0</td>\n",
              "      <td>2</td>\n",
              "      <td>0</td>\n",
              "      <td>operational</td>\n",
              "      <td>Le Bourget</td>\n",
              "      <td>NaN</td>\n",
              "      <td>lebourget-johnfitzgeraldkennedy-2</td>\n",
              "      <td>STATION</td>\n",
              "      <td>48.938103, 2.4286035</td>\n",
              "      <td>93350</td>\n",
              "      <td>Le Bourget/John Fitzgerald Kennedy/2</td>\n",
              "      <td>operational</td>\n",
              "      <td>NaN</td>\n",
              "      <td>1</td>\n",
              "      <td>station</td>\n",
              "      <td>ok</td>\n",
              "      <td>nonexistent</td>\n",
              "      <td>2018</td>\n",
              "      <td>4</td>\n",
              "      <td>3</td>\n",
              "      <td>20</td>\n",
              "      <td>14</td>\n",
              "    </tr>\n",
              "    <tr>\n",
              "      <th>3</th>\n",
              "      <td>51 Rue EugÃ¨ne OudinÃ©</td>\n",
              "      <td>3</td>\n",
              "      <td>3</td>\n",
              "      <td>1</td>\n",
              "      <td>0</td>\n",
              "      <td>1</td>\n",
              "      <td>operational</td>\n",
              "      <td>Paris</td>\n",
              "      <td>NaN</td>\n",
              "      <td>paris-eugeneoudine-51</td>\n",
              "      <td>STATION</td>\n",
              "      <td>48.8250327, 2.3725162</td>\n",
              "      <td>75013</td>\n",
              "      <td>Paris/EugÃ¨ne OudinÃ©/51</td>\n",
              "      <td>operational</td>\n",
              "      <td>NaN</td>\n",
              "      <td>2</td>\n",
              "      <td>station</td>\n",
              "      <td>ok</td>\n",
              "      <td>nonexistent</td>\n",
              "      <td>2018</td>\n",
              "      <td>4</td>\n",
              "      <td>4</td>\n",
              "      <td>4</td>\n",
              "      <td>37</td>\n",
              "    </tr>\n",
              "    <tr>\n",
              "      <th>4</th>\n",
              "      <td>6 avenue de la Porte de Champerret</td>\n",
              "      <td>3</td>\n",
              "      <td>3</td>\n",
              "      <td>0</td>\n",
              "      <td>0</td>\n",
              "      <td>0</td>\n",
              "      <td>nonexistent</td>\n",
              "      <td>Paris</td>\n",
              "      <td>NaN</td>\n",
              "      <td>paris-portedechamperret-6</td>\n",
              "      <td>PARKING</td>\n",
              "      <td>48.8862632, 2.2874511</td>\n",
              "      <td>75017</td>\n",
              "      <td>Paris/Porte de Champerret/6</td>\n",
              "      <td>operational</td>\n",
              "      <td>NaN</td>\n",
              "      <td>3</td>\n",
              "      <td>station</td>\n",
              "      <td>ok</td>\n",
              "      <td>nonexistent</td>\n",
              "      <td>2018</td>\n",
              "      <td>4</td>\n",
              "      <td>8</td>\n",
              "      <td>17</td>\n",
              "      <td>23</td>\n",
              "    </tr>\n",
              "    <tr>\n",
              "      <th>...</th>\n",
              "      <td>...</td>\n",
              "      <td>...</td>\n",
              "      <td>...</td>\n",
              "      <td>...</td>\n",
              "      <td>...</td>\n",
              "      <td>...</td>\n",
              "      <td>...</td>\n",
              "      <td>...</td>\n",
              "      <td>...</td>\n",
              "      <td>...</td>\n",
              "      <td>...</td>\n",
              "      <td>...</td>\n",
              "      <td>...</td>\n",
              "      <td>...</td>\n",
              "      <td>...</td>\n",
              "      <td>...</td>\n",
              "      <td>...</td>\n",
              "      <td>...</td>\n",
              "      <td>...</td>\n",
              "      <td>...</td>\n",
              "      <td>...</td>\n",
              "      <td>...</td>\n",
              "      <td>...</td>\n",
              "      <td>...</td>\n",
              "      <td>...</td>\n",
              "    </tr>\n",
              "    <tr>\n",
              "      <th>4995</th>\n",
              "      <td>8 avenue MÃ©nelotte</td>\n",
              "      <td>2</td>\n",
              "      <td>2</td>\n",
              "      <td>0</td>\n",
              "      <td>0</td>\n",
              "      <td>0</td>\n",
              "      <td>nonexistent</td>\n",
              "      <td>Colombes</td>\n",
              "      <td>NaN</td>\n",
              "      <td>colombes-menelotte-8</td>\n",
              "      <td>STATION</td>\n",
              "      <td>48.9246525, 2.259313</td>\n",
              "      <td>92700</td>\n",
              "      <td>Colombes/MÃ©nelotte/8</td>\n",
              "      <td>operational</td>\n",
              "      <td>NaN</td>\n",
              "      <td>3</td>\n",
              "      <td>station</td>\n",
              "      <td>ok</td>\n",
              "      <td>nonexistent</td>\n",
              "      <td>2018</td>\n",
              "      <td>4</td>\n",
              "      <td>6</td>\n",
              "      <td>11</td>\n",
              "      <td>26</td>\n",
              "    </tr>\n",
              "    <tr>\n",
              "      <th>4996</th>\n",
              "      <td>37 rue de Dantzig</td>\n",
              "      <td>4</td>\n",
              "      <td>4</td>\n",
              "      <td>0</td>\n",
              "      <td>0</td>\n",
              "      <td>1</td>\n",
              "      <td>operational</td>\n",
              "      <td>Paris</td>\n",
              "      <td>NaN</td>\n",
              "      <td>paris-dantzig-37</td>\n",
              "      <td>STATION</td>\n",
              "      <td>48.8335103, 2.2987201</td>\n",
              "      <td>75015</td>\n",
              "      <td>Paris/Dantzig/37</td>\n",
              "      <td>operational</td>\n",
              "      <td>NaN</td>\n",
              "      <td>2</td>\n",
              "      <td>station</td>\n",
              "      <td>ok</td>\n",
              "      <td>nonexistent</td>\n",
              "      <td>2018</td>\n",
              "      <td>4</td>\n",
              "      <td>4</td>\n",
              "      <td>16</td>\n",
              "      <td>56</td>\n",
              "    </tr>\n",
              "    <tr>\n",
              "      <th>4997</th>\n",
              "      <td>142 rue du Bac</td>\n",
              "      <td>1</td>\n",
              "      <td>1</td>\n",
              "      <td>0</td>\n",
              "      <td>0</td>\n",
              "      <td>1</td>\n",
              "      <td>operational</td>\n",
              "      <td>Paris</td>\n",
              "      <td>NaN</td>\n",
              "      <td>paris-bac-142</td>\n",
              "      <td>STATION</td>\n",
              "      <td>48.8508194, 2.3237968</td>\n",
              "      <td>75007</td>\n",
              "      <td>Paris/Bac/142</td>\n",
              "      <td>operational</td>\n",
              "      <td>NaN</td>\n",
              "      <td>4</td>\n",
              "      <td>station</td>\n",
              "      <td>ok</td>\n",
              "      <td>nonexistent</td>\n",
              "      <td>2018</td>\n",
              "      <td>4</td>\n",
              "      <td>1</td>\n",
              "      <td>7</td>\n",
              "      <td>1</td>\n",
              "    </tr>\n",
              "    <tr>\n",
              "      <th>4998</th>\n",
              "      <td>2 avenue du Val de Fontenay</td>\n",
              "      <td>2</td>\n",
              "      <td>2</td>\n",
              "      <td>0</td>\n",
              "      <td>0</td>\n",
              "      <td>0</td>\n",
              "      <td>nonexistent</td>\n",
              "      <td>Fontenay-Sous-Bois</td>\n",
              "      <td>NaN</td>\n",
              "      <td>fontenaysousbois-valdefontenay-2</td>\n",
              "      <td>STATION</td>\n",
              "      <td>48.8528247, 2.4869085</td>\n",
              "      <td>94120</td>\n",
              "      <td>Fontenay-Sous-Bois/Val de Fontenay/2</td>\n",
              "      <td>operational</td>\n",
              "      <td>NaN</td>\n",
              "      <td>3</td>\n",
              "      <td>station</td>\n",
              "      <td>ok</td>\n",
              "      <td>nonexistent</td>\n",
              "      <td>2018</td>\n",
              "      <td>4</td>\n",
              "      <td>4</td>\n",
              "      <td>17</td>\n",
              "      <td>27</td>\n",
              "    </tr>\n",
              "    <tr>\n",
              "      <th>4999</th>\n",
              "      <td>5 Rue Henry Brisson</td>\n",
              "      <td>4</td>\n",
              "      <td>4</td>\n",
              "      <td>0</td>\n",
              "      <td>0</td>\n",
              "      <td>0</td>\n",
              "      <td>operational</td>\n",
              "      <td>Paris</td>\n",
              "      <td>NaN</td>\n",
              "      <td>paris-henrybrisson-5</td>\n",
              "      <td>STATION</td>\n",
              "      <td>48.8984293, 2.3347923</td>\n",
              "      <td>75018</td>\n",
              "      <td>Paris/Henry Brisson/5</td>\n",
              "      <td>operational</td>\n",
              "      <td>NaN</td>\n",
              "      <td>0</td>\n",
              "      <td>station</td>\n",
              "      <td>ok</td>\n",
              "      <td>nonexistent</td>\n",
              "      <td>2018</td>\n",
              "      <td>4</td>\n",
              "      <td>8</td>\n",
              "      <td>10</td>\n",
              "      <td>2</td>\n",
              "    </tr>\n",
              "  </tbody>\n",
              "</table>\n",
              "<p>5000 rows × 25 columns</p>\n",
              "</div>"
            ],
            "text/plain": [
              "                                 Address  Cars  ...  hour  minute\n",
              "0                    2 Avenue de Suffren     0  ...    11      43\n",
              "1              145 Rue Raymond Losserand     6  ...     7      24\n",
              "2       2 Avenue John Fitzgerald Kennedy     3  ...    20      14\n",
              "3                 51 Rue EugÃ¨ne OudinÃ©     3  ...     4      37\n",
              "4     6 avenue de la Porte de Champerret     3  ...    17      23\n",
              "...                                  ...   ...  ...   ...     ...\n",
              "4995                 8 avenue MÃ©nelotte     2  ...    11      26\n",
              "4996                   37 rue de Dantzig     4  ...    16      56\n",
              "4997                      142 rue du Bac     1  ...     7       1\n",
              "4998         2 avenue du Val de Fontenay     2  ...    17      27\n",
              "4999                 5 Rue Henry Brisson     4  ...    10       2\n",
              "\n",
              "[5000 rows x 25 columns]"
            ]
          },
          "metadata": {
            "tags": []
          },
          "execution_count": 573
        }
      ]
    },
    {
      "cell_type": "code",
      "metadata": {
        "colab": {
          "base_uri": "https://localhost:8080/"
        },
        "id": "2LyMN9qlAg1d",
        "outputId": "b3136321-c3da-4ca2-9a5f-c28866615680"
      },
      "source": [
        "df['Scheduled at'].unique()"
      ],
      "execution_count": 574,
      "outputs": [
        {
          "output_type": "execute_result",
          "data": {
            "text/plain": [
              "array([nan, '2016-07-27T15:32:21', '2016-07-05T13:10:09',\n",
              "       '2015-09-29T13:58:29', '2016-04-26T14:28:01',\n",
              "       '2012-09-17T08:57:28', '2016-01-06T10:35:38',\n",
              "       '2018-01-03T10:52:00', '2016-07-27T15:32:22'], dtype=object)"
            ]
          },
          "metadata": {
            "tags": []
          },
          "execution_count": 574
        }
      ]
    },
    {
      "cell_type": "code",
      "metadata": {
        "colab": {
          "base_uri": "https://localhost:8080/"
        },
        "id": "ZMO7DKvzBJrb",
        "outputId": "4c6e4fd2-595d-4628-ef02-62c09af4513d"
      },
      "source": [
        "df['Status'].unique()"
      ],
      "execution_count": 575,
      "outputs": [
        {
          "output_type": "execute_result",
          "data": {
            "text/plain": [
              "array(['ok', 'closed', 'scheduled'], dtype=object)"
            ]
          },
          "metadata": {
            "tags": []
          },
          "execution_count": 575
        }
      ]
    },
    {
      "cell_type": "markdown",
      "metadata": {
        "id": "041lN7izFgfx"
      },
      "source": [
        "## 3.0 Verifying data integrity"
      ]
    },
    {
      "cell_type": "code",
      "metadata": {
        "id": "M5fV5igkFvyZ",
        "colab": {
          "base_uri": "https://localhost:8080/"
        },
        "outputId": "ebadc3de-d064-4b21-b31d-8cb46b029fb7"
      },
      "source": [
        "# Checking for null values in the dataset\n",
        "df.isnull().any()"
      ],
      "execution_count": 576,
      "outputs": [
        {
          "output_type": "execute_result",
          "data": {
            "text/plain": [
              "Address                False\n",
              "Cars                   False\n",
              "Bluecar counter        False\n",
              "Utilib counter         False\n",
              "Utilib 1.4 counter     False\n",
              "Charge Slots           False\n",
              "Charging Status        False\n",
              "City                   False\n",
              "Displayed comment       True\n",
              "ID                     False\n",
              "Kind                   False\n",
              "Geo point              False\n",
              "Postal code            False\n",
              "Public name            False\n",
              "Rental status          False\n",
              "Scheduled at            True\n",
              "Slots                  False\n",
              "Station type           False\n",
              "Status                 False\n",
              "Subscription status    False\n",
              "year                   False\n",
              "month                  False\n",
              "day                    False\n",
              "hour                   False\n",
              "minute                 False\n",
              "dtype: bool"
            ]
          },
          "metadata": {
            "tags": []
          },
          "execution_count": 576
        }
      ]
    },
    {
      "cell_type": "code",
      "metadata": {
        "colab": {
          "base_uri": "https://localhost:8080/"
        },
        "id": "SfROxebl-qHk",
        "outputId": "9e35c5bd-6a5f-4e16-9f48-a6faa621f993"
      },
      "source": [
        "# checking for the total number of null values per column in the dataset\n",
        "df.isnull().sum()"
      ],
      "execution_count": 577,
      "outputs": [
        {
          "output_type": "execute_result",
          "data": {
            "text/plain": [
              "Address                   0\n",
              "Cars                      0\n",
              "Bluecar counter           0\n",
              "Utilib counter            0\n",
              "Utilib 1.4 counter        0\n",
              "Charge Slots              0\n",
              "Charging Status           0\n",
              "City                      0\n",
              "Displayed comment      4889\n",
              "ID                        0\n",
              "Kind                      0\n",
              "Geo point                 0\n",
              "Postal code               0\n",
              "Public name               0\n",
              "Rental status             0\n",
              "Scheduled at           4953\n",
              "Slots                     0\n",
              "Station type              0\n",
              "Status                    0\n",
              "Subscription status       0\n",
              "year                      0\n",
              "month                     0\n",
              "day                       0\n",
              "hour                      0\n",
              "minute                    0\n",
              "dtype: int64"
            ]
          },
          "metadata": {
            "tags": []
          },
          "execution_count": 577
        }
      ]
    },
    {
      "cell_type": "code",
      "metadata": {
        "colab": {
          "base_uri": "https://localhost:8080/"
        },
        "id": "IekQ3X4zJUi8",
        "outputId": "bd3b8d14-efb7-44c6-c94f-b4fb0d1e561f"
      },
      "source": [
        "# Checking for duplicates\n",
        "df.duplicated().any()"
      ],
      "execution_count": 578,
      "outputs": [
        {
          "output_type": "execute_result",
          "data": {
            "text/plain": [
              "False"
            ]
          },
          "metadata": {
            "tags": []
          },
          "execution_count": 578
        }
      ]
    },
    {
      "cell_type": "code",
      "metadata": {
        "colab": {
          "base_uri": "https://localhost:8080/"
        },
        "id": "t5aUzfxu1Vfg",
        "outputId": "d867adce-efe3-43be-e4ce-bae7597062d4"
      },
      "source": [
        "# checking for the duration the data was collected\n",
        "days = list(df['day'].unique())\n",
        "sorted(days)"
      ],
      "execution_count": 579,
      "outputs": [
        {
          "output_type": "execute_result",
          "data": {
            "text/plain": [
              "[1, 2, 3, 4, 5, 6, 7, 8, 9]"
            ]
          },
          "metadata": {
            "tags": []
          },
          "execution_count": 579
        }
      ]
    },
    {
      "cell_type": "code",
      "metadata": {
        "colab": {
          "base_uri": "https://localhost:8080/"
        },
        "id": "1nHWWO-09PZd",
        "outputId": "42cac736-ec4e-451e-e955-77a1768915df"
      },
      "source": [
        "# Checking if there is any yeaar apart from 2018\n",
        "df['year'].unique() "
      ],
      "execution_count": 580,
      "outputs": [
        {
          "output_type": "execute_result",
          "data": {
            "text/plain": [
              "array([2018])"
            ]
          },
          "metadata": {
            "tags": []
          },
          "execution_count": 580
        }
      ]
    },
    {
      "cell_type": "code",
      "metadata": {
        "colab": {
          "base_uri": "https://localhost:8080/"
        },
        "id": "Y2sP-n7r9PWs",
        "outputId": "4d033538-8b83-4d1b-84b1-1e460caef69f"
      },
      "source": [
        "# Checking if there is any other month apart from aprill\n",
        "df['month'].unique()"
      ],
      "execution_count": 581,
      "outputs": [
        {
          "output_type": "execute_result",
          "data": {
            "text/plain": [
              "array([4])"
            ]
          },
          "metadata": {
            "tags": []
          },
          "execution_count": 581
        }
      ]
    },
    {
      "cell_type": "code",
      "metadata": {
        "colab": {
          "base_uri": "https://localhost:8080/"
        },
        "id": "QHstl-vZ9Uwl",
        "outputId": "9717a0cb-960a-4f1b-a5f5-aa1409697d45"
      },
      "source": [
        "# Checking the hours at which the data was collected\n",
        "hours = list(df['hour'].unique())\n",
        "sorted(hours)"
      ],
      "execution_count": 582,
      "outputs": [
        {
          "output_type": "execute_result",
          "data": {
            "text/plain": [
              "[0,\n",
              " 1,\n",
              " 2,\n",
              " 3,\n",
              " 4,\n",
              " 5,\n",
              " 6,\n",
              " 7,\n",
              " 8,\n",
              " 9,\n",
              " 10,\n",
              " 11,\n",
              " 12,\n",
              " 13,\n",
              " 14,\n",
              " 15,\n",
              " 16,\n",
              " 17,\n",
              " 18,\n",
              " 19,\n",
              " 20,\n",
              " 21,\n",
              " 22,\n",
              " 23]"
            ]
          },
          "metadata": {
            "tags": []
          },
          "execution_count": 582
        }
      ]
    },
    {
      "cell_type": "markdown",
      "metadata": {
        "id": "YIGgRVFzJFSj"
      },
      "source": [
        "## 4.0 Data Cleaning"
      ]
    },
    {
      "cell_type": "markdown",
      "metadata": {
        "id": "YzWoK8__J64c"
      },
      "source": [
        "### 4.1 Validity"
      ]
    },
    {
      "cell_type": "code",
      "metadata": {
        "id": "TlzSoIZ59Zwq"
      },
      "source": [
        "# function for loading an updated dataset\n",
        "def preview(number):\n",
        "      return df.head(number)"
      ],
      "execution_count": 583,
      "outputs": []
    },
    {
      "cell_type": "code",
      "metadata": {
        "id": "8dvO8YRHJbXZ",
        "colab": {
          "base_uri": "https://localhost:8080/",
          "height": 296
        },
        "outputId": "bc4db312-2bf8-4b04-f8f8-198663c99175"
      },
      "source": [
        "# Procedure 1: \n",
        "# Data Cleaning Action: Dropping irrelevant columns\n",
        "# Explanation: The cars column is irrelevant, it\n",
        "# contains the same values as Bluecar counter\n",
        "#\n",
        "df.drop('Cars', axis=1, inplace=True)\n",
        "df.drop(['year', 'month'], axis=1, inplace=True) # We already know the month and year\n",
        "# previewing the dataframe\n",
        "df.drop('minute', axis=1, inplace=True) # I'm interested with the day and hour part\n",
        "preview(3)"
      ],
      "execution_count": 584,
      "outputs": [
        {
          "output_type": "execute_result",
          "data": {
            "text/html": [
              "<div>\n",
              "<style scoped>\n",
              "    .dataframe tbody tr th:only-of-type {\n",
              "        vertical-align: middle;\n",
              "    }\n",
              "\n",
              "    .dataframe tbody tr th {\n",
              "        vertical-align: top;\n",
              "    }\n",
              "\n",
              "    .dataframe thead th {\n",
              "        text-align: right;\n",
              "    }\n",
              "</style>\n",
              "<table border=\"1\" class=\"dataframe\">\n",
              "  <thead>\n",
              "    <tr style=\"text-align: right;\">\n",
              "      <th></th>\n",
              "      <th>Address</th>\n",
              "      <th>Bluecar counter</th>\n",
              "      <th>Utilib counter</th>\n",
              "      <th>Utilib 1.4 counter</th>\n",
              "      <th>Charge Slots</th>\n",
              "      <th>Charging Status</th>\n",
              "      <th>City</th>\n",
              "      <th>Displayed comment</th>\n",
              "      <th>ID</th>\n",
              "      <th>Kind</th>\n",
              "      <th>Geo point</th>\n",
              "      <th>Postal code</th>\n",
              "      <th>Public name</th>\n",
              "      <th>Rental status</th>\n",
              "      <th>Scheduled at</th>\n",
              "      <th>Slots</th>\n",
              "      <th>Station type</th>\n",
              "      <th>Status</th>\n",
              "      <th>Subscription status</th>\n",
              "      <th>day</th>\n",
              "      <th>hour</th>\n",
              "    </tr>\n",
              "  </thead>\n",
              "  <tbody>\n",
              "    <tr>\n",
              "      <th>0</th>\n",
              "      <td>2 Avenue de Suffren</td>\n",
              "      <td>0</td>\n",
              "      <td>0</td>\n",
              "      <td>0</td>\n",
              "      <td>0</td>\n",
              "      <td>nonexistent</td>\n",
              "      <td>Paris</td>\n",
              "      <td>NaN</td>\n",
              "      <td>paris-suffren-2</td>\n",
              "      <td>STATION</td>\n",
              "      <td>48.857, 2.2917</td>\n",
              "      <td>75015</td>\n",
              "      <td>Paris/Suffren/2</td>\n",
              "      <td>operational</td>\n",
              "      <td>NaN</td>\n",
              "      <td>2</td>\n",
              "      <td>station</td>\n",
              "      <td>ok</td>\n",
              "      <td>nonexistent</td>\n",
              "      <td>8</td>\n",
              "      <td>11</td>\n",
              "    </tr>\n",
              "    <tr>\n",
              "      <th>1</th>\n",
              "      <td>145 Rue Raymond Losserand</td>\n",
              "      <td>6</td>\n",
              "      <td>0</td>\n",
              "      <td>0</td>\n",
              "      <td>0</td>\n",
              "      <td>operational</td>\n",
              "      <td>Paris</td>\n",
              "      <td>NaN</td>\n",
              "      <td>paris-raymondlosserand-145</td>\n",
              "      <td>STATION</td>\n",
              "      <td>48.83126, 2.313088</td>\n",
              "      <td>75014</td>\n",
              "      <td>Paris/Raymond Losserand/145</td>\n",
              "      <td>operational</td>\n",
              "      <td>NaN</td>\n",
              "      <td>0</td>\n",
              "      <td>station</td>\n",
              "      <td>ok</td>\n",
              "      <td>nonexistent</td>\n",
              "      <td>6</td>\n",
              "      <td>7</td>\n",
              "    </tr>\n",
              "    <tr>\n",
              "      <th>2</th>\n",
              "      <td>2 Avenue John Fitzgerald Kennedy</td>\n",
              "      <td>3</td>\n",
              "      <td>0</td>\n",
              "      <td>2</td>\n",
              "      <td>0</td>\n",
              "      <td>operational</td>\n",
              "      <td>Le Bourget</td>\n",
              "      <td>NaN</td>\n",
              "      <td>lebourget-johnfitzgeraldkennedy-2</td>\n",
              "      <td>STATION</td>\n",
              "      <td>48.938103, 2.4286035</td>\n",
              "      <td>93350</td>\n",
              "      <td>Le Bourget/John Fitzgerald Kennedy/2</td>\n",
              "      <td>operational</td>\n",
              "      <td>NaN</td>\n",
              "      <td>1</td>\n",
              "      <td>station</td>\n",
              "      <td>ok</td>\n",
              "      <td>nonexistent</td>\n",
              "      <td>3</td>\n",
              "      <td>20</td>\n",
              "    </tr>\n",
              "  </tbody>\n",
              "</table>\n",
              "</div>"
            ],
            "text/plain": [
              "                            Address  Bluecar counter  ...  day  hour\n",
              "0               2 Avenue de Suffren                0  ...    8    11\n",
              "1         145 Rue Raymond Losserand                6  ...    6     7\n",
              "2  2 Avenue John Fitzgerald Kennedy                3  ...    3    20\n",
              "\n",
              "[3 rows x 21 columns]"
            ]
          },
          "metadata": {
            "tags": []
          },
          "execution_count": 584
        }
      ]
    },
    {
      "cell_type": "code",
      "metadata": {
        "colab": {
          "base_uri": "https://localhost:8080/",
          "height": 296
        },
        "id": "IMCY04LaouUm",
        "outputId": "c6457cbd-10e5-49af-a64d-7d57e3bb93dc"
      },
      "source": [
        "# Procedure 2: \n",
        "# Data Cleaning Action: Stripping leading and trailing sapces in the column\n",
        "# Explanation: Leading and trailing spaces may lead to invalid outputs\n",
        "#\n",
        "columns = list(df.columns.str.lstrip())\n",
        "df.columns = columns\n",
        "# previewing the dataframe\n",
        "preview(3)"
      ],
      "execution_count": 585,
      "outputs": [
        {
          "output_type": "execute_result",
          "data": {
            "text/html": [
              "<div>\n",
              "<style scoped>\n",
              "    .dataframe tbody tr th:only-of-type {\n",
              "        vertical-align: middle;\n",
              "    }\n",
              "\n",
              "    .dataframe tbody tr th {\n",
              "        vertical-align: top;\n",
              "    }\n",
              "\n",
              "    .dataframe thead th {\n",
              "        text-align: right;\n",
              "    }\n",
              "</style>\n",
              "<table border=\"1\" class=\"dataframe\">\n",
              "  <thead>\n",
              "    <tr style=\"text-align: right;\">\n",
              "      <th></th>\n",
              "      <th>Address</th>\n",
              "      <th>Bluecar counter</th>\n",
              "      <th>Utilib counter</th>\n",
              "      <th>Utilib 1.4 counter</th>\n",
              "      <th>Charge Slots</th>\n",
              "      <th>Charging Status</th>\n",
              "      <th>City</th>\n",
              "      <th>Displayed comment</th>\n",
              "      <th>ID</th>\n",
              "      <th>Kind</th>\n",
              "      <th>Geo point</th>\n",
              "      <th>Postal code</th>\n",
              "      <th>Public name</th>\n",
              "      <th>Rental status</th>\n",
              "      <th>Scheduled at</th>\n",
              "      <th>Slots</th>\n",
              "      <th>Station type</th>\n",
              "      <th>Status</th>\n",
              "      <th>Subscription status</th>\n",
              "      <th>day</th>\n",
              "      <th>hour</th>\n",
              "    </tr>\n",
              "  </thead>\n",
              "  <tbody>\n",
              "    <tr>\n",
              "      <th>0</th>\n",
              "      <td>2 Avenue de Suffren</td>\n",
              "      <td>0</td>\n",
              "      <td>0</td>\n",
              "      <td>0</td>\n",
              "      <td>0</td>\n",
              "      <td>nonexistent</td>\n",
              "      <td>Paris</td>\n",
              "      <td>NaN</td>\n",
              "      <td>paris-suffren-2</td>\n",
              "      <td>STATION</td>\n",
              "      <td>48.857, 2.2917</td>\n",
              "      <td>75015</td>\n",
              "      <td>Paris/Suffren/2</td>\n",
              "      <td>operational</td>\n",
              "      <td>NaN</td>\n",
              "      <td>2</td>\n",
              "      <td>station</td>\n",
              "      <td>ok</td>\n",
              "      <td>nonexistent</td>\n",
              "      <td>8</td>\n",
              "      <td>11</td>\n",
              "    </tr>\n",
              "    <tr>\n",
              "      <th>1</th>\n",
              "      <td>145 Rue Raymond Losserand</td>\n",
              "      <td>6</td>\n",
              "      <td>0</td>\n",
              "      <td>0</td>\n",
              "      <td>0</td>\n",
              "      <td>operational</td>\n",
              "      <td>Paris</td>\n",
              "      <td>NaN</td>\n",
              "      <td>paris-raymondlosserand-145</td>\n",
              "      <td>STATION</td>\n",
              "      <td>48.83126, 2.313088</td>\n",
              "      <td>75014</td>\n",
              "      <td>Paris/Raymond Losserand/145</td>\n",
              "      <td>operational</td>\n",
              "      <td>NaN</td>\n",
              "      <td>0</td>\n",
              "      <td>station</td>\n",
              "      <td>ok</td>\n",
              "      <td>nonexistent</td>\n",
              "      <td>6</td>\n",
              "      <td>7</td>\n",
              "    </tr>\n",
              "    <tr>\n",
              "      <th>2</th>\n",
              "      <td>2 Avenue John Fitzgerald Kennedy</td>\n",
              "      <td>3</td>\n",
              "      <td>0</td>\n",
              "      <td>2</td>\n",
              "      <td>0</td>\n",
              "      <td>operational</td>\n",
              "      <td>Le Bourget</td>\n",
              "      <td>NaN</td>\n",
              "      <td>lebourget-johnfitzgeraldkennedy-2</td>\n",
              "      <td>STATION</td>\n",
              "      <td>48.938103, 2.4286035</td>\n",
              "      <td>93350</td>\n",
              "      <td>Le Bourget/John Fitzgerald Kennedy/2</td>\n",
              "      <td>operational</td>\n",
              "      <td>NaN</td>\n",
              "      <td>1</td>\n",
              "      <td>station</td>\n",
              "      <td>ok</td>\n",
              "      <td>nonexistent</td>\n",
              "      <td>3</td>\n",
              "      <td>20</td>\n",
              "    </tr>\n",
              "  </tbody>\n",
              "</table>\n",
              "</div>"
            ],
            "text/plain": [
              "                            Address  Bluecar counter  ...  day  hour\n",
              "0               2 Avenue de Suffren                0  ...    8    11\n",
              "1         145 Rue Raymond Losserand                6  ...    6     7\n",
              "2  2 Avenue John Fitzgerald Kennedy                3  ...    3    20\n",
              "\n",
              "[3 rows x 21 columns]"
            ]
          },
          "metadata": {
            "tags": []
          },
          "execution_count": 585
        }
      ]
    },
    {
      "cell_type": "code",
      "metadata": {
        "colab": {
          "base_uri": "https://localhost:8080/",
          "height": 262
        },
        "id": "cSxlHxf8rRtA",
        "outputId": "013fb996-3054-4e45-bb2f-fdb7f21d3249"
      },
      "source": [
        "# Procedure 2: \n",
        "# Data Cleaning Action: Replacing '' with '_' in columns\n",
        "# Explanation: For easier selection of a columns during selecting\n",
        "#\n",
        "columns=list(df.columns.str.replace(' ','_'))\n",
        "df.columns = columns\n",
        "# previewing the dataframe\n",
        "preview(3)"
      ],
      "execution_count": 586,
      "outputs": [
        {
          "output_type": "execute_result",
          "data": {
            "text/html": [
              "<div>\n",
              "<style scoped>\n",
              "    .dataframe tbody tr th:only-of-type {\n",
              "        vertical-align: middle;\n",
              "    }\n",
              "\n",
              "    .dataframe tbody tr th {\n",
              "        vertical-align: top;\n",
              "    }\n",
              "\n",
              "    .dataframe thead th {\n",
              "        text-align: right;\n",
              "    }\n",
              "</style>\n",
              "<table border=\"1\" class=\"dataframe\">\n",
              "  <thead>\n",
              "    <tr style=\"text-align: right;\">\n",
              "      <th></th>\n",
              "      <th>Address</th>\n",
              "      <th>Bluecar_counter</th>\n",
              "      <th>Utilib_counter</th>\n",
              "      <th>Utilib_1.4_counter</th>\n",
              "      <th>Charge_Slots</th>\n",
              "      <th>Charging_Status</th>\n",
              "      <th>City</th>\n",
              "      <th>Displayed_comment</th>\n",
              "      <th>ID</th>\n",
              "      <th>Kind</th>\n",
              "      <th>Geo_point</th>\n",
              "      <th>Postal_code</th>\n",
              "      <th>Public_name</th>\n",
              "      <th>Rental_status</th>\n",
              "      <th>Scheduled_at</th>\n",
              "      <th>Slots</th>\n",
              "      <th>Station_type</th>\n",
              "      <th>Status</th>\n",
              "      <th>Subscription_status</th>\n",
              "      <th>day</th>\n",
              "      <th>hour</th>\n",
              "    </tr>\n",
              "  </thead>\n",
              "  <tbody>\n",
              "    <tr>\n",
              "      <th>0</th>\n",
              "      <td>2 Avenue de Suffren</td>\n",
              "      <td>0</td>\n",
              "      <td>0</td>\n",
              "      <td>0</td>\n",
              "      <td>0</td>\n",
              "      <td>nonexistent</td>\n",
              "      <td>Paris</td>\n",
              "      <td>NaN</td>\n",
              "      <td>paris-suffren-2</td>\n",
              "      <td>STATION</td>\n",
              "      <td>48.857, 2.2917</td>\n",
              "      <td>75015</td>\n",
              "      <td>Paris/Suffren/2</td>\n",
              "      <td>operational</td>\n",
              "      <td>NaN</td>\n",
              "      <td>2</td>\n",
              "      <td>station</td>\n",
              "      <td>ok</td>\n",
              "      <td>nonexistent</td>\n",
              "      <td>8</td>\n",
              "      <td>11</td>\n",
              "    </tr>\n",
              "    <tr>\n",
              "      <th>1</th>\n",
              "      <td>145 Rue Raymond Losserand</td>\n",
              "      <td>6</td>\n",
              "      <td>0</td>\n",
              "      <td>0</td>\n",
              "      <td>0</td>\n",
              "      <td>operational</td>\n",
              "      <td>Paris</td>\n",
              "      <td>NaN</td>\n",
              "      <td>paris-raymondlosserand-145</td>\n",
              "      <td>STATION</td>\n",
              "      <td>48.83126, 2.313088</td>\n",
              "      <td>75014</td>\n",
              "      <td>Paris/Raymond Losserand/145</td>\n",
              "      <td>operational</td>\n",
              "      <td>NaN</td>\n",
              "      <td>0</td>\n",
              "      <td>station</td>\n",
              "      <td>ok</td>\n",
              "      <td>nonexistent</td>\n",
              "      <td>6</td>\n",
              "      <td>7</td>\n",
              "    </tr>\n",
              "    <tr>\n",
              "      <th>2</th>\n",
              "      <td>2 Avenue John Fitzgerald Kennedy</td>\n",
              "      <td>3</td>\n",
              "      <td>0</td>\n",
              "      <td>2</td>\n",
              "      <td>0</td>\n",
              "      <td>operational</td>\n",
              "      <td>Le Bourget</td>\n",
              "      <td>NaN</td>\n",
              "      <td>lebourget-johnfitzgeraldkennedy-2</td>\n",
              "      <td>STATION</td>\n",
              "      <td>48.938103, 2.4286035</td>\n",
              "      <td>93350</td>\n",
              "      <td>Le Bourget/John Fitzgerald Kennedy/2</td>\n",
              "      <td>operational</td>\n",
              "      <td>NaN</td>\n",
              "      <td>1</td>\n",
              "      <td>station</td>\n",
              "      <td>ok</td>\n",
              "      <td>nonexistent</td>\n",
              "      <td>3</td>\n",
              "      <td>20</td>\n",
              "    </tr>\n",
              "  </tbody>\n",
              "</table>\n",
              "</div>"
            ],
            "text/plain": [
              "                            Address  Bluecar_counter  ...  day  hour\n",
              "0               2 Avenue de Suffren                0  ...    8    11\n",
              "1         145 Rue Raymond Losserand                6  ...    6     7\n",
              "2  2 Avenue John Fitzgerald Kennedy                3  ...    3    20\n",
              "\n",
              "[3 rows x 21 columns]"
            ]
          },
          "metadata": {
            "tags": []
          },
          "execution_count": 586
        }
      ]
    },
    {
      "cell_type": "markdown",
      "metadata": {
        "id": "teqXlnl25uDO"
      },
      "source": [
        "### 4.2 Accuracy"
      ]
    },
    {
      "cell_type": "code",
      "metadata": {
        "id": "XbVrbo605zvO"
      },
      "source": [
        "# The following dataset has no calculated fields hence, \n",
        "# I will skip this part"
      ],
      "execution_count": 587,
      "outputs": []
    },
    {
      "cell_type": "markdown",
      "metadata": {
        "id": "f9FwiyqJ9vOc"
      },
      "source": [
        "### 4.2 Completeness"
      ]
    },
    {
      "cell_type": "markdown",
      "metadata": {
        "id": "_gOUqJCIB7OF"
      },
      "source": [
        "#### 4.2.1 Checking for null values"
      ]
    },
    {
      "cell_type": "code",
      "metadata": {
        "id": "0LEjv8Uf9yrK",
        "colab": {
          "base_uri": "https://localhost:8080/"
        },
        "outputId": "22c1d976-1c31-4a66-d362-8b23df080759"
      },
      "source": [
        "# Checking if there is any null values in the dataset\n",
        "df.isnull().any()"
      ],
      "execution_count": 588,
      "outputs": [
        {
          "output_type": "execute_result",
          "data": {
            "text/plain": [
              "Address                False\n",
              "Bluecar_counter        False\n",
              "Utilib_counter         False\n",
              "Utilib_1.4_counter     False\n",
              "Charge_Slots           False\n",
              "Charging_Status        False\n",
              "City                   False\n",
              "Displayed_comment       True\n",
              "ID                     False\n",
              "Kind                   False\n",
              "Geo_point              False\n",
              "Postal_code            False\n",
              "Public_name            False\n",
              "Rental_status          False\n",
              "Scheduled_at            True\n",
              "Slots                  False\n",
              "Station_type           False\n",
              "Status                 False\n",
              "Subscription_status    False\n",
              "day                    False\n",
              "hour                   False\n",
              "dtype: bool"
            ]
          },
          "metadata": {
            "tags": []
          },
          "execution_count": 588
        }
      ]
    },
    {
      "cell_type": "code",
      "metadata": {
        "colab": {
          "base_uri": "https://localhost:8080/"
        },
        "id": "KgdJU7gXBuZy",
        "outputId": "727a5ea6-eb87-42b4-e425-12e546b91c3c"
      },
      "source": [
        "# checking for the sum of the null values in every column\n",
        "df.isnull().sum()"
      ],
      "execution_count": 589,
      "outputs": [
        {
          "output_type": "execute_result",
          "data": {
            "text/plain": [
              "Address                   0\n",
              "Bluecar_counter           0\n",
              "Utilib_counter            0\n",
              "Utilib_1.4_counter        0\n",
              "Charge_Slots              0\n",
              "Charging_Status           0\n",
              "City                      0\n",
              "Displayed_comment      4889\n",
              "ID                        0\n",
              "Kind                      0\n",
              "Geo_point                 0\n",
              "Postal_code               0\n",
              "Public_name               0\n",
              "Rental_status             0\n",
              "Scheduled_at           4953\n",
              "Slots                     0\n",
              "Station_type              0\n",
              "Status                    0\n",
              "Subscription_status       0\n",
              "day                       0\n",
              "hour                      0\n",
              "dtype: int64"
            ]
          },
          "metadata": {
            "tags": []
          },
          "execution_count": 589
        }
      ]
    },
    {
      "cell_type": "markdown",
      "metadata": {
        "id": "j5tgXKWlCDHm"
      },
      "source": [
        "#### 4.2.2 Dealing with null values"
      ]
    },
    {
      "cell_type": "code",
      "metadata": {
        "id": "kbJGQWGgCTZI"
      },
      "source": [
        "# filtering out where scheduled in the future\n",
        "df = df[~(df['Rental_status'] == 'future')]\n",
        "df = df.reset_index()\n",
        "df.drop('index', axis=1, inplace=True)"
      ],
      "execution_count": 590,
      "outputs": []
    },
    {
      "cell_type": "code",
      "metadata": {
        "id": "cZpoX3OHFrDR"
      },
      "source": [
        "# filtering out records which contain 'CENTER' in the kind column\n",
        "df = df[~(df['Kind'] == 'CENTER')]\n",
        "df = df.reset_index()\n",
        "df.drop('index', axis=1, inplace=True)"
      ],
      "execution_count": 591,
      "outputs": []
    },
    {
      "cell_type": "code",
      "metadata": {
        "id": "pEWmzXGRIMKx"
      },
      "source": [
        "# filtering out station that are not operational\n",
        "df = df[(df['Rental_status'] == 'operational')]\n",
        "df = df.reset_index()\n",
        "df.drop('index', axis=1, inplace=True)"
      ],
      "execution_count": 592,
      "outputs": []
    },
    {
      "cell_type": "code",
      "metadata": {
        "colab": {
          "base_uri": "https://localhost:8080/",
          "height": 69
        },
        "id": "OZw_i3giECp8",
        "outputId": "d14655a5-0393-4030-c98e-d9c5f961a2c4"
      },
      "source": [
        "# checking for any record where the rental status is future\n",
        "df[(df['Rental_status'] == 'future')]"
      ],
      "execution_count": 593,
      "outputs": [
        {
          "output_type": "execute_result",
          "data": {
            "text/html": [
              "<div>\n",
              "<style scoped>\n",
              "    .dataframe tbody tr th:only-of-type {\n",
              "        vertical-align: middle;\n",
              "    }\n",
              "\n",
              "    .dataframe tbody tr th {\n",
              "        vertical-align: top;\n",
              "    }\n",
              "\n",
              "    .dataframe thead th {\n",
              "        text-align: right;\n",
              "    }\n",
              "</style>\n",
              "<table border=\"1\" class=\"dataframe\">\n",
              "  <thead>\n",
              "    <tr style=\"text-align: right;\">\n",
              "      <th></th>\n",
              "      <th>Address</th>\n",
              "      <th>Bluecar_counter</th>\n",
              "      <th>Utilib_counter</th>\n",
              "      <th>Utilib_1.4_counter</th>\n",
              "      <th>Charge_Slots</th>\n",
              "      <th>Charging_Status</th>\n",
              "      <th>City</th>\n",
              "      <th>Displayed_comment</th>\n",
              "      <th>ID</th>\n",
              "      <th>Kind</th>\n",
              "      <th>Geo_point</th>\n",
              "      <th>Postal_code</th>\n",
              "      <th>Public_name</th>\n",
              "      <th>Rental_status</th>\n",
              "      <th>Scheduled_at</th>\n",
              "      <th>Slots</th>\n",
              "      <th>Station_type</th>\n",
              "      <th>Status</th>\n",
              "      <th>Subscription_status</th>\n",
              "      <th>day</th>\n",
              "      <th>hour</th>\n",
              "    </tr>\n",
              "  </thead>\n",
              "  <tbody>\n",
              "  </tbody>\n",
              "</table>\n",
              "</div>"
            ],
            "text/plain": [
              "Empty DataFrame\n",
              "Columns: [Address, Bluecar_counter, Utilib_counter, Utilib_1.4_counter, Charge_Slots, Charging_Status, City, Displayed_comment, ID, Kind, Geo_point, Postal_code, Public_name, Rental_status, Scheduled_at, Slots, Station_type, Status, Subscription_status, day, hour]\n",
              "Index: []"
            ]
          },
          "metadata": {
            "tags": []
          },
          "execution_count": 593
        }
      ]
    },
    {
      "cell_type": "code",
      "metadata": {
        "colab": {
          "base_uri": "https://localhost:8080/",
          "height": 69
        },
        "id": "Nnh44eBeHDE_",
        "outputId": "56f7a716-055c-4210-d851-9e4991d62d20"
      },
      "source": [
        "# checking for any record where there is 'CENTER' in the kind column\n",
        "df[df['Kind'] == 'CENTER']"
      ],
      "execution_count": 594,
      "outputs": [
        {
          "output_type": "execute_result",
          "data": {
            "text/html": [
              "<div>\n",
              "<style scoped>\n",
              "    .dataframe tbody tr th:only-of-type {\n",
              "        vertical-align: middle;\n",
              "    }\n",
              "\n",
              "    .dataframe tbody tr th {\n",
              "        vertical-align: top;\n",
              "    }\n",
              "\n",
              "    .dataframe thead th {\n",
              "        text-align: right;\n",
              "    }\n",
              "</style>\n",
              "<table border=\"1\" class=\"dataframe\">\n",
              "  <thead>\n",
              "    <tr style=\"text-align: right;\">\n",
              "      <th></th>\n",
              "      <th>Address</th>\n",
              "      <th>Bluecar_counter</th>\n",
              "      <th>Utilib_counter</th>\n",
              "      <th>Utilib_1.4_counter</th>\n",
              "      <th>Charge_Slots</th>\n",
              "      <th>Charging_Status</th>\n",
              "      <th>City</th>\n",
              "      <th>Displayed_comment</th>\n",
              "      <th>ID</th>\n",
              "      <th>Kind</th>\n",
              "      <th>Geo_point</th>\n",
              "      <th>Postal_code</th>\n",
              "      <th>Public_name</th>\n",
              "      <th>Rental_status</th>\n",
              "      <th>Scheduled_at</th>\n",
              "      <th>Slots</th>\n",
              "      <th>Station_type</th>\n",
              "      <th>Status</th>\n",
              "      <th>Subscription_status</th>\n",
              "      <th>day</th>\n",
              "      <th>hour</th>\n",
              "    </tr>\n",
              "  </thead>\n",
              "  <tbody>\n",
              "  </tbody>\n",
              "</table>\n",
              "</div>"
            ],
            "text/plain": [
              "Empty DataFrame\n",
              "Columns: [Address, Bluecar_counter, Utilib_counter, Utilib_1.4_counter, Charge_Slots, Charging_Status, City, Displayed_comment, ID, Kind, Geo_point, Postal_code, Public_name, Rental_status, Scheduled_at, Slots, Station_type, Status, Subscription_status, day, hour]\n",
              "Index: []"
            ]
          },
          "metadata": {
            "tags": []
          },
          "execution_count": 594
        }
      ]
    },
    {
      "cell_type": "code",
      "metadata": {
        "colab": {
          "base_uri": "https://localhost:8080/",
          "height": 69
        },
        "id": "XSJGuKkwIhvv",
        "outputId": "3202cc39-84ee-44a8-c997-18fb73f3db04"
      },
      "source": [
        "# checking for any stations that are not operational\n",
        "df[~(df['Rental_status'] == 'operational')]"
      ],
      "execution_count": 595,
      "outputs": [
        {
          "output_type": "execute_result",
          "data": {
            "text/html": [
              "<div>\n",
              "<style scoped>\n",
              "    .dataframe tbody tr th:only-of-type {\n",
              "        vertical-align: middle;\n",
              "    }\n",
              "\n",
              "    .dataframe tbody tr th {\n",
              "        vertical-align: top;\n",
              "    }\n",
              "\n",
              "    .dataframe thead th {\n",
              "        text-align: right;\n",
              "    }\n",
              "</style>\n",
              "<table border=\"1\" class=\"dataframe\">\n",
              "  <thead>\n",
              "    <tr style=\"text-align: right;\">\n",
              "      <th></th>\n",
              "      <th>Address</th>\n",
              "      <th>Bluecar_counter</th>\n",
              "      <th>Utilib_counter</th>\n",
              "      <th>Utilib_1.4_counter</th>\n",
              "      <th>Charge_Slots</th>\n",
              "      <th>Charging_Status</th>\n",
              "      <th>City</th>\n",
              "      <th>Displayed_comment</th>\n",
              "      <th>ID</th>\n",
              "      <th>Kind</th>\n",
              "      <th>Geo_point</th>\n",
              "      <th>Postal_code</th>\n",
              "      <th>Public_name</th>\n",
              "      <th>Rental_status</th>\n",
              "      <th>Scheduled_at</th>\n",
              "      <th>Slots</th>\n",
              "      <th>Station_type</th>\n",
              "      <th>Status</th>\n",
              "      <th>Subscription_status</th>\n",
              "      <th>day</th>\n",
              "      <th>hour</th>\n",
              "    </tr>\n",
              "  </thead>\n",
              "  <tbody>\n",
              "  </tbody>\n",
              "</table>\n",
              "</div>"
            ],
            "text/plain": [
              "Empty DataFrame\n",
              "Columns: [Address, Bluecar_counter, Utilib_counter, Utilib_1.4_counter, Charge_Slots, Charging_Status, City, Displayed_comment, ID, Kind, Geo_point, Postal_code, Public_name, Rental_status, Scheduled_at, Slots, Station_type, Status, Subscription_status, day, hour]\n",
              "Index: []"
            ]
          },
          "metadata": {
            "tags": []
          },
          "execution_count": 595
        }
      ]
    },
    {
      "cell_type": "code",
      "metadata": {
        "colab": {
          "base_uri": "https://localhost:8080/"
        },
        "id": "MM5KkPXKKHi0",
        "outputId": "c671d048-45e8-495f-d131-9a9517cf7276"
      },
      "source": [
        "# checking for unique values in the status column\n",
        "df['Status'].unique()"
      ],
      "execution_count": 596,
      "outputs": [
        {
          "output_type": "execute_result",
          "data": {
            "text/plain": [
              "array(['ok'], dtype=object)"
            ]
          },
          "metadata": {
            "tags": []
          },
          "execution_count": 596
        }
      ]
    },
    {
      "cell_type": "code",
      "metadata": {
        "colab": {
          "base_uri": "https://localhost:8080/",
          "height": 262
        },
        "id": "kl2N0FV0CHCT",
        "outputId": "392692cb-2898-4d1d-a81c-745b2a9c2bcf"
      },
      "source": [
        "# Dropping the 'Displayed_comment' and 'Scheduled_at' column \n",
        "# since it conatains alot of null values, the 'Rental_status'\n",
        "# column since it only contains one type of value and the status column\n",
        "df.drop(['Displayed_comment', 'Scheduled_at', 'Rental_status', 'Status'], axis=1, inplace=True)\n",
        "# Previewing the dataset\n",
        "preview(3)"
      ],
      "execution_count": 597,
      "outputs": [
        {
          "output_type": "execute_result",
          "data": {
            "text/html": [
              "<div>\n",
              "<style scoped>\n",
              "    .dataframe tbody tr th:only-of-type {\n",
              "        vertical-align: middle;\n",
              "    }\n",
              "\n",
              "    .dataframe tbody tr th {\n",
              "        vertical-align: top;\n",
              "    }\n",
              "\n",
              "    .dataframe thead th {\n",
              "        text-align: right;\n",
              "    }\n",
              "</style>\n",
              "<table border=\"1\" class=\"dataframe\">\n",
              "  <thead>\n",
              "    <tr style=\"text-align: right;\">\n",
              "      <th></th>\n",
              "      <th>Address</th>\n",
              "      <th>Bluecar_counter</th>\n",
              "      <th>Utilib_counter</th>\n",
              "      <th>Utilib_1.4_counter</th>\n",
              "      <th>Charge_Slots</th>\n",
              "      <th>Charging_Status</th>\n",
              "      <th>City</th>\n",
              "      <th>ID</th>\n",
              "      <th>Kind</th>\n",
              "      <th>Geo_point</th>\n",
              "      <th>Postal_code</th>\n",
              "      <th>Public_name</th>\n",
              "      <th>Slots</th>\n",
              "      <th>Station_type</th>\n",
              "      <th>Subscription_status</th>\n",
              "      <th>day</th>\n",
              "      <th>hour</th>\n",
              "    </tr>\n",
              "  </thead>\n",
              "  <tbody>\n",
              "    <tr>\n",
              "      <th>0</th>\n",
              "      <td>2 Avenue de Suffren</td>\n",
              "      <td>0</td>\n",
              "      <td>0</td>\n",
              "      <td>0</td>\n",
              "      <td>0</td>\n",
              "      <td>nonexistent</td>\n",
              "      <td>Paris</td>\n",
              "      <td>paris-suffren-2</td>\n",
              "      <td>STATION</td>\n",
              "      <td>48.857, 2.2917</td>\n",
              "      <td>75015</td>\n",
              "      <td>Paris/Suffren/2</td>\n",
              "      <td>2</td>\n",
              "      <td>station</td>\n",
              "      <td>nonexistent</td>\n",
              "      <td>8</td>\n",
              "      <td>11</td>\n",
              "    </tr>\n",
              "    <tr>\n",
              "      <th>1</th>\n",
              "      <td>145 Rue Raymond Losserand</td>\n",
              "      <td>6</td>\n",
              "      <td>0</td>\n",
              "      <td>0</td>\n",
              "      <td>0</td>\n",
              "      <td>operational</td>\n",
              "      <td>Paris</td>\n",
              "      <td>paris-raymondlosserand-145</td>\n",
              "      <td>STATION</td>\n",
              "      <td>48.83126, 2.313088</td>\n",
              "      <td>75014</td>\n",
              "      <td>Paris/Raymond Losserand/145</td>\n",
              "      <td>0</td>\n",
              "      <td>station</td>\n",
              "      <td>nonexistent</td>\n",
              "      <td>6</td>\n",
              "      <td>7</td>\n",
              "    </tr>\n",
              "    <tr>\n",
              "      <th>2</th>\n",
              "      <td>2 Avenue John Fitzgerald Kennedy</td>\n",
              "      <td>3</td>\n",
              "      <td>0</td>\n",
              "      <td>2</td>\n",
              "      <td>0</td>\n",
              "      <td>operational</td>\n",
              "      <td>Le Bourget</td>\n",
              "      <td>lebourget-johnfitzgeraldkennedy-2</td>\n",
              "      <td>STATION</td>\n",
              "      <td>48.938103, 2.4286035</td>\n",
              "      <td>93350</td>\n",
              "      <td>Le Bourget/John Fitzgerald Kennedy/2</td>\n",
              "      <td>1</td>\n",
              "      <td>station</td>\n",
              "      <td>nonexistent</td>\n",
              "      <td>3</td>\n",
              "      <td>20</td>\n",
              "    </tr>\n",
              "  </tbody>\n",
              "</table>\n",
              "</div>"
            ],
            "text/plain": [
              "                            Address  Bluecar_counter  ...  day  hour\n",
              "0               2 Avenue de Suffren                0  ...    8    11\n",
              "1         145 Rue Raymond Losserand                6  ...    6     7\n",
              "2  2 Avenue John Fitzgerald Kennedy                3  ...    3    20\n",
              "\n",
              "[3 rows x 17 columns]"
            ]
          },
          "metadata": {
            "tags": []
          },
          "execution_count": 597
        }
      ]
    },
    {
      "cell_type": "markdown",
      "metadata": {
        "id": "10sV50NKHkPf"
      },
      "source": [
        "### 4.3 Consistency"
      ]
    },
    {
      "cell_type": "markdown",
      "metadata": {
        "id": "FHzGF43UHqGL"
      },
      "source": [
        "#### 4.3.1 Checking for duplicates"
      ]
    },
    {
      "cell_type": "code",
      "metadata": {
        "colab": {
          "base_uri": "https://localhost:8080/"
        },
        "id": "7f9Fwz7yHylo",
        "outputId": "a7a6f437-2619-4ce4-fc6b-139c289fbfce"
      },
      "source": [
        "# Checking for duplicated records in the dataset in any\n",
        "df.duplicated().any()"
      ],
      "execution_count": 598,
      "outputs": [
        {
          "output_type": "execute_result",
          "data": {
            "text/plain": [
              "True"
            ]
          },
          "metadata": {
            "tags": []
          },
          "execution_count": 598
        }
      ]
    },
    {
      "cell_type": "code",
      "metadata": {
        "colab": {
          "base_uri": "https://localhost:8080/"
        },
        "id": "ptGFCbXIH2e9",
        "outputId": "0eaa7962-26af-4220-82ed-f8fd540783c5"
      },
      "source": [
        "# Checking the sum of all duplicated records\n",
        "df.duplicated().sum()"
      ],
      "execution_count": 599,
      "outputs": [
        {
          "output_type": "execute_result",
          "data": {
            "text/plain": [
              "26"
            ]
          },
          "metadata": {
            "tags": []
          },
          "execution_count": 599
        }
      ]
    },
    {
      "cell_type": "markdown",
      "metadata": {
        "id": "SZPUgM2VH684"
      },
      "source": [
        "#### 4.3.1 Dealing with duplicates"
      ]
    },
    {
      "cell_type": "code",
      "metadata": {
        "id": "QECm88qlH_sd"
      },
      "source": [
        "# Dropping the duplicates\n",
        "df = df.drop_duplicates()"
      ],
      "execution_count": 600,
      "outputs": []
    },
    {
      "cell_type": "code",
      "metadata": {
        "colab": {
          "base_uri": "https://localhost:8080/"
        },
        "id": "q0tw5pBNIddw",
        "outputId": "27d0095f-de6f-44b7-b966-c2da59a4db29"
      },
      "source": [
        "# Checking if the is any duplicates in the new dataframe\n",
        "df.duplicated().any()"
      ],
      "execution_count": 601,
      "outputs": [
        {
          "output_type": "execute_result",
          "data": {
            "text/plain": [
              "False"
            ]
          },
          "metadata": {
            "tags": []
          },
          "execution_count": 601
        }
      ]
    },
    {
      "cell_type": "markdown",
      "metadata": {
        "id": "MmrHyk9PIvwp"
      },
      "source": [
        "### 4.4 Uniformity"
      ]
    },
    {
      "cell_type": "code",
      "metadata": {
        "colab": {
          "base_uri": "https://localhost:8080/",
          "height": 968
        },
        "id": "IDRc0HoFI8ru",
        "outputId": "5962cdea-1843-4ff7-9633-106427d02962"
      },
      "source": [
        "# Checking for uniformity\n",
        "preview(15)"
      ],
      "execution_count": 602,
      "outputs": [
        {
          "output_type": "execute_result",
          "data": {
            "text/html": [
              "<div>\n",
              "<style scoped>\n",
              "    .dataframe tbody tr th:only-of-type {\n",
              "        vertical-align: middle;\n",
              "    }\n",
              "\n",
              "    .dataframe tbody tr th {\n",
              "        vertical-align: top;\n",
              "    }\n",
              "\n",
              "    .dataframe thead th {\n",
              "        text-align: right;\n",
              "    }\n",
              "</style>\n",
              "<table border=\"1\" class=\"dataframe\">\n",
              "  <thead>\n",
              "    <tr style=\"text-align: right;\">\n",
              "      <th></th>\n",
              "      <th>Address</th>\n",
              "      <th>Bluecar_counter</th>\n",
              "      <th>Utilib_counter</th>\n",
              "      <th>Utilib_1.4_counter</th>\n",
              "      <th>Charge_Slots</th>\n",
              "      <th>Charging_Status</th>\n",
              "      <th>City</th>\n",
              "      <th>ID</th>\n",
              "      <th>Kind</th>\n",
              "      <th>Geo_point</th>\n",
              "      <th>Postal_code</th>\n",
              "      <th>Public_name</th>\n",
              "      <th>Slots</th>\n",
              "      <th>Station_type</th>\n",
              "      <th>Subscription_status</th>\n",
              "      <th>day</th>\n",
              "      <th>hour</th>\n",
              "    </tr>\n",
              "  </thead>\n",
              "  <tbody>\n",
              "    <tr>\n",
              "      <th>0</th>\n",
              "      <td>2 Avenue de Suffren</td>\n",
              "      <td>0</td>\n",
              "      <td>0</td>\n",
              "      <td>0</td>\n",
              "      <td>0</td>\n",
              "      <td>nonexistent</td>\n",
              "      <td>Paris</td>\n",
              "      <td>paris-suffren-2</td>\n",
              "      <td>STATION</td>\n",
              "      <td>48.857, 2.2917</td>\n",
              "      <td>75015</td>\n",
              "      <td>Paris/Suffren/2</td>\n",
              "      <td>2</td>\n",
              "      <td>station</td>\n",
              "      <td>nonexistent</td>\n",
              "      <td>8</td>\n",
              "      <td>11</td>\n",
              "    </tr>\n",
              "    <tr>\n",
              "      <th>1</th>\n",
              "      <td>145 Rue Raymond Losserand</td>\n",
              "      <td>6</td>\n",
              "      <td>0</td>\n",
              "      <td>0</td>\n",
              "      <td>0</td>\n",
              "      <td>operational</td>\n",
              "      <td>Paris</td>\n",
              "      <td>paris-raymondlosserand-145</td>\n",
              "      <td>STATION</td>\n",
              "      <td>48.83126, 2.313088</td>\n",
              "      <td>75014</td>\n",
              "      <td>Paris/Raymond Losserand/145</td>\n",
              "      <td>0</td>\n",
              "      <td>station</td>\n",
              "      <td>nonexistent</td>\n",
              "      <td>6</td>\n",
              "      <td>7</td>\n",
              "    </tr>\n",
              "    <tr>\n",
              "      <th>2</th>\n",
              "      <td>2 Avenue John Fitzgerald Kennedy</td>\n",
              "      <td>3</td>\n",
              "      <td>0</td>\n",
              "      <td>2</td>\n",
              "      <td>0</td>\n",
              "      <td>operational</td>\n",
              "      <td>Le Bourget</td>\n",
              "      <td>lebourget-johnfitzgeraldkennedy-2</td>\n",
              "      <td>STATION</td>\n",
              "      <td>48.938103, 2.4286035</td>\n",
              "      <td>93350</td>\n",
              "      <td>Le Bourget/John Fitzgerald Kennedy/2</td>\n",
              "      <td>1</td>\n",
              "      <td>station</td>\n",
              "      <td>nonexistent</td>\n",
              "      <td>3</td>\n",
              "      <td>20</td>\n",
              "    </tr>\n",
              "    <tr>\n",
              "      <th>3</th>\n",
              "      <td>51 Rue EugÃ¨ne OudinÃ©</td>\n",
              "      <td>3</td>\n",
              "      <td>1</td>\n",
              "      <td>0</td>\n",
              "      <td>1</td>\n",
              "      <td>operational</td>\n",
              "      <td>Paris</td>\n",
              "      <td>paris-eugeneoudine-51</td>\n",
              "      <td>STATION</td>\n",
              "      <td>48.8250327, 2.3725162</td>\n",
              "      <td>75013</td>\n",
              "      <td>Paris/EugÃ¨ne OudinÃ©/51</td>\n",
              "      <td>2</td>\n",
              "      <td>station</td>\n",
              "      <td>nonexistent</td>\n",
              "      <td>4</td>\n",
              "      <td>4</td>\n",
              "    </tr>\n",
              "    <tr>\n",
              "      <th>4</th>\n",
              "      <td>6 avenue de la Porte de Champerret</td>\n",
              "      <td>3</td>\n",
              "      <td>0</td>\n",
              "      <td>0</td>\n",
              "      <td>0</td>\n",
              "      <td>nonexistent</td>\n",
              "      <td>Paris</td>\n",
              "      <td>paris-portedechamperret-6</td>\n",
              "      <td>PARKING</td>\n",
              "      <td>48.8862632, 2.2874511</td>\n",
              "      <td>75017</td>\n",
              "      <td>Paris/Porte de Champerret/6</td>\n",
              "      <td>3</td>\n",
              "      <td>station</td>\n",
              "      <td>nonexistent</td>\n",
              "      <td>8</td>\n",
              "      <td>17</td>\n",
              "    </tr>\n",
              "    <tr>\n",
              "      <th>5</th>\n",
              "      <td>8 Boulevard Voltaire</td>\n",
              "      <td>0</td>\n",
              "      <td>0</td>\n",
              "      <td>0</td>\n",
              "      <td>0</td>\n",
              "      <td>nonexistent</td>\n",
              "      <td>Paris</td>\n",
              "      <td>paris-voltaire-8</td>\n",
              "      <td>STATION</td>\n",
              "      <td>48.8657658, 2.3664376</td>\n",
              "      <td>75011</td>\n",
              "      <td>Paris/Voltaire/8</td>\n",
              "      <td>4</td>\n",
              "      <td>station</td>\n",
              "      <td>nonexistent</td>\n",
              "      <td>6</td>\n",
              "      <td>7</td>\n",
              "    </tr>\n",
              "    <tr>\n",
              "      <th>6</th>\n",
              "      <td>17 Rue des Luaps ProlongÃ©e</td>\n",
              "      <td>3</td>\n",
              "      <td>1</td>\n",
              "      <td>0</td>\n",
              "      <td>0</td>\n",
              "      <td>nonexistent</td>\n",
              "      <td>Nanterre</td>\n",
              "      <td>nanterre-luaps-17</td>\n",
              "      <td>STATION</td>\n",
              "      <td>48.88069, 2.21063</td>\n",
              "      <td>92000</td>\n",
              "      <td>Nanterre/Luaps/17</td>\n",
              "      <td>0</td>\n",
              "      <td>station</td>\n",
              "      <td>nonexistent</td>\n",
              "      <td>4</td>\n",
              "      <td>22</td>\n",
              "    </tr>\n",
              "    <tr>\n",
              "      <th>7</th>\n",
              "      <td>34 avenue Jean Moulin</td>\n",
              "      <td>1</td>\n",
              "      <td>0</td>\n",
              "      <td>0</td>\n",
              "      <td>0</td>\n",
              "      <td>nonexistent</td>\n",
              "      <td>Paris</td>\n",
              "      <td>paris-jeanmoulin-34</td>\n",
              "      <td>STATION</td>\n",
              "      <td>48.8266807, 2.3237355</td>\n",
              "      <td>75014</td>\n",
              "      <td>Paris/Jean Moulin/34</td>\n",
              "      <td>4</td>\n",
              "      <td>station</td>\n",
              "      <td>nonexistent</td>\n",
              "      <td>2</td>\n",
              "      <td>22</td>\n",
              "    </tr>\n",
              "    <tr>\n",
              "      <th>8</th>\n",
              "      <td>41 boulevard de Rochechouart</td>\n",
              "      <td>6</td>\n",
              "      <td>0</td>\n",
              "      <td>0</td>\n",
              "      <td>0</td>\n",
              "      <td>nonexistent</td>\n",
              "      <td>Paris</td>\n",
              "      <td>paris-anvers-parking</td>\n",
              "      <td>PARKING</td>\n",
              "      <td>48.88267, 2.34405</td>\n",
              "      <td>75009</td>\n",
              "      <td>Paris/Anvers/Parking</td>\n",
              "      <td>0</td>\n",
              "      <td>station</td>\n",
              "      <td>nonexistent</td>\n",
              "      <td>4</td>\n",
              "      <td>15</td>\n",
              "    </tr>\n",
              "    <tr>\n",
              "      <th>9</th>\n",
              "      <td>14 rue Censier</td>\n",
              "      <td>0</td>\n",
              "      <td>0</td>\n",
              "      <td>0</td>\n",
              "      <td>2</td>\n",
              "      <td>operational</td>\n",
              "      <td>Paris</td>\n",
              "      <td>paris-censier-14</td>\n",
              "      <td>STATION</td>\n",
              "      <td>48.8411067, 2.3544235</td>\n",
              "      <td>75005</td>\n",
              "      <td>Paris/Censier/14</td>\n",
              "      <td>6</td>\n",
              "      <td>station</td>\n",
              "      <td>nonexistent</td>\n",
              "      <td>1</td>\n",
              "      <td>4</td>\n",
              "    </tr>\n",
              "    <tr>\n",
              "      <th>10</th>\n",
              "      <td>12 Rue Francis de PressensÃ©</td>\n",
              "      <td>1</td>\n",
              "      <td>0</td>\n",
              "      <td>0</td>\n",
              "      <td>0</td>\n",
              "      <td>nonexistent</td>\n",
              "      <td>Puteaux</td>\n",
              "      <td>puteaux-francisdepressense-12</td>\n",
              "      <td>STATION</td>\n",
              "      <td>48.8761876, 2.2361346</td>\n",
              "      <td>92800</td>\n",
              "      <td>Puteaux/Francis de PressensÃ©/12</td>\n",
              "      <td>4</td>\n",
              "      <td>station</td>\n",
              "      <td>nonexistent</td>\n",
              "      <td>6</td>\n",
              "      <td>9</td>\n",
              "    </tr>\n",
              "    <tr>\n",
              "      <th>11</th>\n",
              "      <td>6 avenue de la Porte de Champerret</td>\n",
              "      <td>5</td>\n",
              "      <td>1</td>\n",
              "      <td>0</td>\n",
              "      <td>0</td>\n",
              "      <td>nonexistent</td>\n",
              "      <td>Paris</td>\n",
              "      <td>paris-portedechamperret-6</td>\n",
              "      <td>PARKING</td>\n",
              "      <td>48.8862632, 2.2874511</td>\n",
              "      <td>75017</td>\n",
              "      <td>Paris/Porte de Champerret/6</td>\n",
              "      <td>0</td>\n",
              "      <td>station</td>\n",
              "      <td>nonexistent</td>\n",
              "      <td>5</td>\n",
              "      <td>12</td>\n",
              "    </tr>\n",
              "    <tr>\n",
              "      <th>12</th>\n",
              "      <td>34 avenue Jean Moulin</td>\n",
              "      <td>0</td>\n",
              "      <td>0</td>\n",
              "      <td>0</td>\n",
              "      <td>0</td>\n",
              "      <td>nonexistent</td>\n",
              "      <td>Paris</td>\n",
              "      <td>paris-jeanmoulin-34</td>\n",
              "      <td>STATION</td>\n",
              "      <td>48.8266807, 2.3237355</td>\n",
              "      <td>75014</td>\n",
              "      <td>Paris/Jean Moulin/34</td>\n",
              "      <td>0</td>\n",
              "      <td>station</td>\n",
              "      <td>nonexistent</td>\n",
              "      <td>8</td>\n",
              "      <td>21</td>\n",
              "    </tr>\n",
              "    <tr>\n",
              "      <th>13</th>\n",
              "      <td>8 Boulevard Richard Lenoir</td>\n",
              "      <td>0</td>\n",
              "      <td>0</td>\n",
              "      <td>0</td>\n",
              "      <td>1</td>\n",
              "      <td>operational</td>\n",
              "      <td>Paris</td>\n",
              "      <td>paris-richardlenoir-8</td>\n",
              "      <td>STATION</td>\n",
              "      <td>48.8545026, 2.370183</td>\n",
              "      <td>75011</td>\n",
              "      <td>Paris/Richard Lenoir/8</td>\n",
              "      <td>4</td>\n",
              "      <td>station</td>\n",
              "      <td>nonexistent</td>\n",
              "      <td>6</td>\n",
              "      <td>8</td>\n",
              "    </tr>\n",
              "    <tr>\n",
              "      <th>14</th>\n",
              "      <td>3 rue Jean JaurÃ¨s</td>\n",
              "      <td>0</td>\n",
              "      <td>0</td>\n",
              "      <td>0</td>\n",
              "      <td>0</td>\n",
              "      <td>nonexistent</td>\n",
              "      <td>Fontenay-aux-Roses</td>\n",
              "      <td>fontenayauxroses-jeanjaures-3</td>\n",
              "      <td>SPACE</td>\n",
              "      <td>48.7906824, 2.28727</td>\n",
              "      <td>92260</td>\n",
              "      <td>Fontenay-aux-Roses/Jean JaurÃ¨s/3</td>\n",
              "      <td>4</td>\n",
              "      <td>full_station</td>\n",
              "      <td>operational</td>\n",
              "      <td>2</td>\n",
              "      <td>0</td>\n",
              "    </tr>\n",
              "  </tbody>\n",
              "</table>\n",
              "</div>"
            ],
            "text/plain": [
              "                               Address  Bluecar_counter  ...  day  hour\n",
              "0                  2 Avenue de Suffren                0  ...    8    11\n",
              "1            145 Rue Raymond Losserand                6  ...    6     7\n",
              "2     2 Avenue John Fitzgerald Kennedy                3  ...    3    20\n",
              "3               51 Rue EugÃ¨ne OudinÃ©                3  ...    4     4\n",
              "4   6 avenue de la Porte de Champerret                3  ...    8    17\n",
              "5                 8 Boulevard Voltaire                0  ...    6     7\n",
              "6          17 Rue des Luaps ProlongÃ©e                3  ...    4    22\n",
              "7                34 avenue Jean Moulin                1  ...    2    22\n",
              "8         41 boulevard de Rochechouart                6  ...    4    15\n",
              "9                       14 rue Censier                0  ...    1     4\n",
              "10        12 Rue Francis de PressensÃ©                1  ...    6     9\n",
              "11  6 avenue de la Porte de Champerret                5  ...    5    12\n",
              "12               34 avenue Jean Moulin                0  ...    8    21\n",
              "13          8 Boulevard Richard Lenoir                0  ...    6     8\n",
              "14                  3 rue Jean JaurÃ¨s                0  ...    2     0\n",
              "\n",
              "[15 rows x 17 columns]"
            ]
          },
          "metadata": {
            "tags": []
          },
          "execution_count": 602
        }
      ]
    },
    {
      "cell_type": "code",
      "metadata": {
        "id": "Ky4oSvX7IzpC"
      },
      "source": [
        "# The following dataset was found to be uniform hence no action will be taken"
      ],
      "execution_count": 603,
      "outputs": []
    },
    {
      "cell_type": "markdown",
      "metadata": {
        "id": "v4pB39SUJZbd"
      },
      "source": [
        "## 5.0 Data analysis"
      ]
    },
    {
      "cell_type": "code",
      "metadata": {
        "colab": {
          "base_uri": "https://localhost:8080/",
          "height": 968
        },
        "id": "L6McQZvuJpMu",
        "outputId": "a6f71f15-afa8-460e-d04d-503fe0cf3cb4"
      },
      "source": [
        "# Previewing the dataset for analysis\n",
        "preview(15)"
      ],
      "execution_count": 604,
      "outputs": [
        {
          "output_type": "execute_result",
          "data": {
            "text/html": [
              "<div>\n",
              "<style scoped>\n",
              "    .dataframe tbody tr th:only-of-type {\n",
              "        vertical-align: middle;\n",
              "    }\n",
              "\n",
              "    .dataframe tbody tr th {\n",
              "        vertical-align: top;\n",
              "    }\n",
              "\n",
              "    .dataframe thead th {\n",
              "        text-align: right;\n",
              "    }\n",
              "</style>\n",
              "<table border=\"1\" class=\"dataframe\">\n",
              "  <thead>\n",
              "    <tr style=\"text-align: right;\">\n",
              "      <th></th>\n",
              "      <th>Address</th>\n",
              "      <th>Bluecar_counter</th>\n",
              "      <th>Utilib_counter</th>\n",
              "      <th>Utilib_1.4_counter</th>\n",
              "      <th>Charge_Slots</th>\n",
              "      <th>Charging_Status</th>\n",
              "      <th>City</th>\n",
              "      <th>ID</th>\n",
              "      <th>Kind</th>\n",
              "      <th>Geo_point</th>\n",
              "      <th>Postal_code</th>\n",
              "      <th>Public_name</th>\n",
              "      <th>Slots</th>\n",
              "      <th>Station_type</th>\n",
              "      <th>Subscription_status</th>\n",
              "      <th>day</th>\n",
              "      <th>hour</th>\n",
              "    </tr>\n",
              "  </thead>\n",
              "  <tbody>\n",
              "    <tr>\n",
              "      <th>0</th>\n",
              "      <td>2 Avenue de Suffren</td>\n",
              "      <td>0</td>\n",
              "      <td>0</td>\n",
              "      <td>0</td>\n",
              "      <td>0</td>\n",
              "      <td>nonexistent</td>\n",
              "      <td>Paris</td>\n",
              "      <td>paris-suffren-2</td>\n",
              "      <td>STATION</td>\n",
              "      <td>48.857, 2.2917</td>\n",
              "      <td>75015</td>\n",
              "      <td>Paris/Suffren/2</td>\n",
              "      <td>2</td>\n",
              "      <td>station</td>\n",
              "      <td>nonexistent</td>\n",
              "      <td>8</td>\n",
              "      <td>11</td>\n",
              "    </tr>\n",
              "    <tr>\n",
              "      <th>1</th>\n",
              "      <td>145 Rue Raymond Losserand</td>\n",
              "      <td>6</td>\n",
              "      <td>0</td>\n",
              "      <td>0</td>\n",
              "      <td>0</td>\n",
              "      <td>operational</td>\n",
              "      <td>Paris</td>\n",
              "      <td>paris-raymondlosserand-145</td>\n",
              "      <td>STATION</td>\n",
              "      <td>48.83126, 2.313088</td>\n",
              "      <td>75014</td>\n",
              "      <td>Paris/Raymond Losserand/145</td>\n",
              "      <td>0</td>\n",
              "      <td>station</td>\n",
              "      <td>nonexistent</td>\n",
              "      <td>6</td>\n",
              "      <td>7</td>\n",
              "    </tr>\n",
              "    <tr>\n",
              "      <th>2</th>\n",
              "      <td>2 Avenue John Fitzgerald Kennedy</td>\n",
              "      <td>3</td>\n",
              "      <td>0</td>\n",
              "      <td>2</td>\n",
              "      <td>0</td>\n",
              "      <td>operational</td>\n",
              "      <td>Le Bourget</td>\n",
              "      <td>lebourget-johnfitzgeraldkennedy-2</td>\n",
              "      <td>STATION</td>\n",
              "      <td>48.938103, 2.4286035</td>\n",
              "      <td>93350</td>\n",
              "      <td>Le Bourget/John Fitzgerald Kennedy/2</td>\n",
              "      <td>1</td>\n",
              "      <td>station</td>\n",
              "      <td>nonexistent</td>\n",
              "      <td>3</td>\n",
              "      <td>20</td>\n",
              "    </tr>\n",
              "    <tr>\n",
              "      <th>3</th>\n",
              "      <td>51 Rue EugÃ¨ne OudinÃ©</td>\n",
              "      <td>3</td>\n",
              "      <td>1</td>\n",
              "      <td>0</td>\n",
              "      <td>1</td>\n",
              "      <td>operational</td>\n",
              "      <td>Paris</td>\n",
              "      <td>paris-eugeneoudine-51</td>\n",
              "      <td>STATION</td>\n",
              "      <td>48.8250327, 2.3725162</td>\n",
              "      <td>75013</td>\n",
              "      <td>Paris/EugÃ¨ne OudinÃ©/51</td>\n",
              "      <td>2</td>\n",
              "      <td>station</td>\n",
              "      <td>nonexistent</td>\n",
              "      <td>4</td>\n",
              "      <td>4</td>\n",
              "    </tr>\n",
              "    <tr>\n",
              "      <th>4</th>\n",
              "      <td>6 avenue de la Porte de Champerret</td>\n",
              "      <td>3</td>\n",
              "      <td>0</td>\n",
              "      <td>0</td>\n",
              "      <td>0</td>\n",
              "      <td>nonexistent</td>\n",
              "      <td>Paris</td>\n",
              "      <td>paris-portedechamperret-6</td>\n",
              "      <td>PARKING</td>\n",
              "      <td>48.8862632, 2.2874511</td>\n",
              "      <td>75017</td>\n",
              "      <td>Paris/Porte de Champerret/6</td>\n",
              "      <td>3</td>\n",
              "      <td>station</td>\n",
              "      <td>nonexistent</td>\n",
              "      <td>8</td>\n",
              "      <td>17</td>\n",
              "    </tr>\n",
              "    <tr>\n",
              "      <th>5</th>\n",
              "      <td>8 Boulevard Voltaire</td>\n",
              "      <td>0</td>\n",
              "      <td>0</td>\n",
              "      <td>0</td>\n",
              "      <td>0</td>\n",
              "      <td>nonexistent</td>\n",
              "      <td>Paris</td>\n",
              "      <td>paris-voltaire-8</td>\n",
              "      <td>STATION</td>\n",
              "      <td>48.8657658, 2.3664376</td>\n",
              "      <td>75011</td>\n",
              "      <td>Paris/Voltaire/8</td>\n",
              "      <td>4</td>\n",
              "      <td>station</td>\n",
              "      <td>nonexistent</td>\n",
              "      <td>6</td>\n",
              "      <td>7</td>\n",
              "    </tr>\n",
              "    <tr>\n",
              "      <th>6</th>\n",
              "      <td>17 Rue des Luaps ProlongÃ©e</td>\n",
              "      <td>3</td>\n",
              "      <td>1</td>\n",
              "      <td>0</td>\n",
              "      <td>0</td>\n",
              "      <td>nonexistent</td>\n",
              "      <td>Nanterre</td>\n",
              "      <td>nanterre-luaps-17</td>\n",
              "      <td>STATION</td>\n",
              "      <td>48.88069, 2.21063</td>\n",
              "      <td>92000</td>\n",
              "      <td>Nanterre/Luaps/17</td>\n",
              "      <td>0</td>\n",
              "      <td>station</td>\n",
              "      <td>nonexistent</td>\n",
              "      <td>4</td>\n",
              "      <td>22</td>\n",
              "    </tr>\n",
              "    <tr>\n",
              "      <th>7</th>\n",
              "      <td>34 avenue Jean Moulin</td>\n",
              "      <td>1</td>\n",
              "      <td>0</td>\n",
              "      <td>0</td>\n",
              "      <td>0</td>\n",
              "      <td>nonexistent</td>\n",
              "      <td>Paris</td>\n",
              "      <td>paris-jeanmoulin-34</td>\n",
              "      <td>STATION</td>\n",
              "      <td>48.8266807, 2.3237355</td>\n",
              "      <td>75014</td>\n",
              "      <td>Paris/Jean Moulin/34</td>\n",
              "      <td>4</td>\n",
              "      <td>station</td>\n",
              "      <td>nonexistent</td>\n",
              "      <td>2</td>\n",
              "      <td>22</td>\n",
              "    </tr>\n",
              "    <tr>\n",
              "      <th>8</th>\n",
              "      <td>41 boulevard de Rochechouart</td>\n",
              "      <td>6</td>\n",
              "      <td>0</td>\n",
              "      <td>0</td>\n",
              "      <td>0</td>\n",
              "      <td>nonexistent</td>\n",
              "      <td>Paris</td>\n",
              "      <td>paris-anvers-parking</td>\n",
              "      <td>PARKING</td>\n",
              "      <td>48.88267, 2.34405</td>\n",
              "      <td>75009</td>\n",
              "      <td>Paris/Anvers/Parking</td>\n",
              "      <td>0</td>\n",
              "      <td>station</td>\n",
              "      <td>nonexistent</td>\n",
              "      <td>4</td>\n",
              "      <td>15</td>\n",
              "    </tr>\n",
              "    <tr>\n",
              "      <th>9</th>\n",
              "      <td>14 rue Censier</td>\n",
              "      <td>0</td>\n",
              "      <td>0</td>\n",
              "      <td>0</td>\n",
              "      <td>2</td>\n",
              "      <td>operational</td>\n",
              "      <td>Paris</td>\n",
              "      <td>paris-censier-14</td>\n",
              "      <td>STATION</td>\n",
              "      <td>48.8411067, 2.3544235</td>\n",
              "      <td>75005</td>\n",
              "      <td>Paris/Censier/14</td>\n",
              "      <td>6</td>\n",
              "      <td>station</td>\n",
              "      <td>nonexistent</td>\n",
              "      <td>1</td>\n",
              "      <td>4</td>\n",
              "    </tr>\n",
              "    <tr>\n",
              "      <th>10</th>\n",
              "      <td>12 Rue Francis de PressensÃ©</td>\n",
              "      <td>1</td>\n",
              "      <td>0</td>\n",
              "      <td>0</td>\n",
              "      <td>0</td>\n",
              "      <td>nonexistent</td>\n",
              "      <td>Puteaux</td>\n",
              "      <td>puteaux-francisdepressense-12</td>\n",
              "      <td>STATION</td>\n",
              "      <td>48.8761876, 2.2361346</td>\n",
              "      <td>92800</td>\n",
              "      <td>Puteaux/Francis de PressensÃ©/12</td>\n",
              "      <td>4</td>\n",
              "      <td>station</td>\n",
              "      <td>nonexistent</td>\n",
              "      <td>6</td>\n",
              "      <td>9</td>\n",
              "    </tr>\n",
              "    <tr>\n",
              "      <th>11</th>\n",
              "      <td>6 avenue de la Porte de Champerret</td>\n",
              "      <td>5</td>\n",
              "      <td>1</td>\n",
              "      <td>0</td>\n",
              "      <td>0</td>\n",
              "      <td>nonexistent</td>\n",
              "      <td>Paris</td>\n",
              "      <td>paris-portedechamperret-6</td>\n",
              "      <td>PARKING</td>\n",
              "      <td>48.8862632, 2.2874511</td>\n",
              "      <td>75017</td>\n",
              "      <td>Paris/Porte de Champerret/6</td>\n",
              "      <td>0</td>\n",
              "      <td>station</td>\n",
              "      <td>nonexistent</td>\n",
              "      <td>5</td>\n",
              "      <td>12</td>\n",
              "    </tr>\n",
              "    <tr>\n",
              "      <th>12</th>\n",
              "      <td>34 avenue Jean Moulin</td>\n",
              "      <td>0</td>\n",
              "      <td>0</td>\n",
              "      <td>0</td>\n",
              "      <td>0</td>\n",
              "      <td>nonexistent</td>\n",
              "      <td>Paris</td>\n",
              "      <td>paris-jeanmoulin-34</td>\n",
              "      <td>STATION</td>\n",
              "      <td>48.8266807, 2.3237355</td>\n",
              "      <td>75014</td>\n",
              "      <td>Paris/Jean Moulin/34</td>\n",
              "      <td>0</td>\n",
              "      <td>station</td>\n",
              "      <td>nonexistent</td>\n",
              "      <td>8</td>\n",
              "      <td>21</td>\n",
              "    </tr>\n",
              "    <tr>\n",
              "      <th>13</th>\n",
              "      <td>8 Boulevard Richard Lenoir</td>\n",
              "      <td>0</td>\n",
              "      <td>0</td>\n",
              "      <td>0</td>\n",
              "      <td>1</td>\n",
              "      <td>operational</td>\n",
              "      <td>Paris</td>\n",
              "      <td>paris-richardlenoir-8</td>\n",
              "      <td>STATION</td>\n",
              "      <td>48.8545026, 2.370183</td>\n",
              "      <td>75011</td>\n",
              "      <td>Paris/Richard Lenoir/8</td>\n",
              "      <td>4</td>\n",
              "      <td>station</td>\n",
              "      <td>nonexistent</td>\n",
              "      <td>6</td>\n",
              "      <td>8</td>\n",
              "    </tr>\n",
              "    <tr>\n",
              "      <th>14</th>\n",
              "      <td>3 rue Jean JaurÃ¨s</td>\n",
              "      <td>0</td>\n",
              "      <td>0</td>\n",
              "      <td>0</td>\n",
              "      <td>0</td>\n",
              "      <td>nonexistent</td>\n",
              "      <td>Fontenay-aux-Roses</td>\n",
              "      <td>fontenayauxroses-jeanjaures-3</td>\n",
              "      <td>SPACE</td>\n",
              "      <td>48.7906824, 2.28727</td>\n",
              "      <td>92260</td>\n",
              "      <td>Fontenay-aux-Roses/Jean JaurÃ¨s/3</td>\n",
              "      <td>4</td>\n",
              "      <td>full_station</td>\n",
              "      <td>operational</td>\n",
              "      <td>2</td>\n",
              "      <td>0</td>\n",
              "    </tr>\n",
              "  </tbody>\n",
              "</table>\n",
              "</div>"
            ],
            "text/plain": [
              "                               Address  Bluecar_counter  ...  day  hour\n",
              "0                  2 Avenue de Suffren                0  ...    8    11\n",
              "1            145 Rue Raymond Losserand                6  ...    6     7\n",
              "2     2 Avenue John Fitzgerald Kennedy                3  ...    3    20\n",
              "3               51 Rue EugÃ¨ne OudinÃ©                3  ...    4     4\n",
              "4   6 avenue de la Porte de Champerret                3  ...    8    17\n",
              "5                 8 Boulevard Voltaire                0  ...    6     7\n",
              "6          17 Rue des Luaps ProlongÃ©e                3  ...    4    22\n",
              "7                34 avenue Jean Moulin                1  ...    2    22\n",
              "8         41 boulevard de Rochechouart                6  ...    4    15\n",
              "9                       14 rue Censier                0  ...    1     4\n",
              "10        12 Rue Francis de PressensÃ©                1  ...    6     9\n",
              "11  6 avenue de la Porte de Champerret                5  ...    5    12\n",
              "12               34 avenue Jean Moulin                0  ...    8    21\n",
              "13          8 Boulevard Richard Lenoir                0  ...    6     8\n",
              "14                  3 rue Jean JaurÃ¨s                0  ...    2     0\n",
              "\n",
              "[15 rows x 17 columns]"
            ]
          },
          "metadata": {
            "tags": []
          },
          "execution_count": 604
        }
      ]
    },
    {
      "cell_type": "markdown",
      "metadata": {
        "id": "R3AvBfS1J7px"
      },
      "source": [
        "### 5.1 Identify the most popular hour of the day for picking up a shared electric car (Bluecar) in the city of Paris over the month of April 2018."
      ]
    },
    {
      "cell_type": "code",
      "metadata": {
        "colab": {
          "base_uri": "https://localhost:8080/",
          "height": 706
        },
        "id": "PN8KtDPGKEXO",
        "outputId": "63933c48-a7ae-4b12-a408-d5a0766b6473"
      },
      "source": [
        "# creating a new dataframe known as paris\n",
        "paris = df[(df['City'] == 'Paris')]\n",
        "paris = paris.sort_values(by='day',ascending=True) # sorting by day\n",
        "paris = paris.reset_index()\n",
        "paris.drop('index', axis=1, inplace=True)\n",
        "paris"
      ],
      "execution_count": 605,
      "outputs": [
        {
          "output_type": "execute_result",
          "data": {
            "text/html": [
              "<div>\n",
              "<style scoped>\n",
              "    .dataframe tbody tr th:only-of-type {\n",
              "        vertical-align: middle;\n",
              "    }\n",
              "\n",
              "    .dataframe tbody tr th {\n",
              "        vertical-align: top;\n",
              "    }\n",
              "\n",
              "    .dataframe thead th {\n",
              "        text-align: right;\n",
              "    }\n",
              "</style>\n",
              "<table border=\"1\" class=\"dataframe\">\n",
              "  <thead>\n",
              "    <tr style=\"text-align: right;\">\n",
              "      <th></th>\n",
              "      <th>Address</th>\n",
              "      <th>Bluecar_counter</th>\n",
              "      <th>Utilib_counter</th>\n",
              "      <th>Utilib_1.4_counter</th>\n",
              "      <th>Charge_Slots</th>\n",
              "      <th>Charging_Status</th>\n",
              "      <th>City</th>\n",
              "      <th>ID</th>\n",
              "      <th>Kind</th>\n",
              "      <th>Geo_point</th>\n",
              "      <th>Postal_code</th>\n",
              "      <th>Public_name</th>\n",
              "      <th>Slots</th>\n",
              "      <th>Station_type</th>\n",
              "      <th>Subscription_status</th>\n",
              "      <th>day</th>\n",
              "      <th>hour</th>\n",
              "    </tr>\n",
              "  </thead>\n",
              "  <tbody>\n",
              "    <tr>\n",
              "      <th>0</th>\n",
              "      <td>73 Rue de Rome</td>\n",
              "      <td>0</td>\n",
              "      <td>0</td>\n",
              "      <td>0</td>\n",
              "      <td>1</td>\n",
              "      <td>operational</td>\n",
              "      <td>Paris</td>\n",
              "      <td>paris-rome-73</td>\n",
              "      <td>STATION</td>\n",
              "      <td>48.881834, 2.32056</td>\n",
              "      <td>75008</td>\n",
              "      <td>Paris/Rome/73</td>\n",
              "      <td>4</td>\n",
              "      <td>station</td>\n",
              "      <td>nonexistent</td>\n",
              "      <td>1</td>\n",
              "      <td>13</td>\n",
              "    </tr>\n",
              "    <tr>\n",
              "      <th>1</th>\n",
              "      <td>29 rue du Cotentin</td>\n",
              "      <td>0</td>\n",
              "      <td>0</td>\n",
              "      <td>0</td>\n",
              "      <td>1</td>\n",
              "      <td>operational</td>\n",
              "      <td>Paris</td>\n",
              "      <td>paris-cotentin-29</td>\n",
              "      <td>STATION</td>\n",
              "      <td>48.8385459, 2.3126749</td>\n",
              "      <td>75015</td>\n",
              "      <td>Paris/Cotentin/29</td>\n",
              "      <td>4</td>\n",
              "      <td>station</td>\n",
              "      <td>nonexistent</td>\n",
              "      <td>1</td>\n",
              "      <td>19</td>\n",
              "    </tr>\n",
              "    <tr>\n",
              "      <th>2</th>\n",
              "      <td>9 boulevard Bourdon</td>\n",
              "      <td>1</td>\n",
              "      <td>0</td>\n",
              "      <td>0</td>\n",
              "      <td>2</td>\n",
              "      <td>operational</td>\n",
              "      <td>Paris</td>\n",
              "      <td>paris-bourdon-9</td>\n",
              "      <td>STATION</td>\n",
              "      <td>48.8484226, 2.366004</td>\n",
              "      <td>75004</td>\n",
              "      <td>Paris/Bourdon/9</td>\n",
              "      <td>4</td>\n",
              "      <td>station</td>\n",
              "      <td>nonexistent</td>\n",
              "      <td>1</td>\n",
              "      <td>14</td>\n",
              "    </tr>\n",
              "    <tr>\n",
              "      <th>3</th>\n",
              "      <td>12 Avenue de Messine</td>\n",
              "      <td>0</td>\n",
              "      <td>0</td>\n",
              "      <td>1</td>\n",
              "      <td>1</td>\n",
              "      <td>operational</td>\n",
              "      <td>Paris</td>\n",
              "      <td>paris-messine-12</td>\n",
              "      <td>STATION</td>\n",
              "      <td>48.87593, 2.314194</td>\n",
              "      <td>75008</td>\n",
              "      <td>Paris/Messine/12</td>\n",
              "      <td>4</td>\n",
              "      <td>station</td>\n",
              "      <td>nonexistent</td>\n",
              "      <td>1</td>\n",
              "      <td>16</td>\n",
              "    </tr>\n",
              "    <tr>\n",
              "      <th>4</th>\n",
              "      <td>143 boulevard Vincent Auriol</td>\n",
              "      <td>0</td>\n",
              "      <td>0</td>\n",
              "      <td>0</td>\n",
              "      <td>0</td>\n",
              "      <td>operational</td>\n",
              "      <td>Paris</td>\n",
              "      <td>paris-vincentauriol-143</td>\n",
              "      <td>SPACE</td>\n",
              "      <td>48.8328237, 2.3624101</td>\n",
              "      <td>75013</td>\n",
              "      <td>Paris/Vincent Auriol/143</td>\n",
              "      <td>1</td>\n",
              "      <td>full_station</td>\n",
              "      <td>operational</td>\n",
              "      <td>1</td>\n",
              "      <td>13</td>\n",
              "    </tr>\n",
              "    <tr>\n",
              "      <th>...</th>\n",
              "      <td>...</td>\n",
              "      <td>...</td>\n",
              "      <td>...</td>\n",
              "      <td>...</td>\n",
              "      <td>...</td>\n",
              "      <td>...</td>\n",
              "      <td>...</td>\n",
              "      <td>...</td>\n",
              "      <td>...</td>\n",
              "      <td>...</td>\n",
              "      <td>...</td>\n",
              "      <td>...</td>\n",
              "      <td>...</td>\n",
              "      <td>...</td>\n",
              "      <td>...</td>\n",
              "      <td>...</td>\n",
              "      <td>...</td>\n",
              "    </tr>\n",
              "    <tr>\n",
              "      <th>2609</th>\n",
              "      <td>41 avenue Bosquet</td>\n",
              "      <td>4</td>\n",
              "      <td>0</td>\n",
              "      <td>0</td>\n",
              "      <td>0</td>\n",
              "      <td>operational</td>\n",
              "      <td>Paris</td>\n",
              "      <td>paris-bosquet-41</td>\n",
              "      <td>STATION</td>\n",
              "      <td>48.8580816, 2.3040495</td>\n",
              "      <td>75007</td>\n",
              "      <td>Paris/Bosquet/41</td>\n",
              "      <td>1</td>\n",
              "      <td>station</td>\n",
              "      <td>nonexistent</td>\n",
              "      <td>9</td>\n",
              "      <td>21</td>\n",
              "    </tr>\n",
              "    <tr>\n",
              "      <th>2610</th>\n",
              "      <td>47 rue de la Grange aux Belles</td>\n",
              "      <td>0</td>\n",
              "      <td>0</td>\n",
              "      <td>0</td>\n",
              "      <td>1</td>\n",
              "      <td>operational</td>\n",
              "      <td>Paris</td>\n",
              "      <td>paris-grangeauxbelles-47</td>\n",
              "      <td>STATION</td>\n",
              "      <td>48.87569, 2.36801</td>\n",
              "      <td>75010</td>\n",
              "      <td>Paris/Grange aux Belles/47</td>\n",
              "      <td>3</td>\n",
              "      <td>station</td>\n",
              "      <td>nonexistent</td>\n",
              "      <td>9</td>\n",
              "      <td>18</td>\n",
              "    </tr>\n",
              "    <tr>\n",
              "      <th>2611</th>\n",
              "      <td>4 Rue de Montfaucon</td>\n",
              "      <td>0</td>\n",
              "      <td>0</td>\n",
              "      <td>0</td>\n",
              "      <td>0</td>\n",
              "      <td>nonexistent</td>\n",
              "      <td>Paris</td>\n",
              "      <td>paris-montfaucon-4</td>\n",
              "      <td>STATION</td>\n",
              "      <td>48.85273, 2.335816</td>\n",
              "      <td>75006</td>\n",
              "      <td>Paris/Montfaucon/4</td>\n",
              "      <td>4</td>\n",
              "      <td>station</td>\n",
              "      <td>nonexistent</td>\n",
              "      <td>9</td>\n",
              "      <td>0</td>\n",
              "    </tr>\n",
              "    <tr>\n",
              "      <th>2612</th>\n",
              "      <td>15 avenue du GÃ©nÃ©ral Laperrine</td>\n",
              "      <td>0</td>\n",
              "      <td>0</td>\n",
              "      <td>0</td>\n",
              "      <td>0</td>\n",
              "      <td>operational</td>\n",
              "      <td>Paris</td>\n",
              "      <td>paris-generallaperrine-15</td>\n",
              "      <td>STATION</td>\n",
              "      <td>48.8345778, 2.4076458</td>\n",
              "      <td>75012</td>\n",
              "      <td>Paris/Laperrine/15</td>\n",
              "      <td>5</td>\n",
              "      <td>station</td>\n",
              "      <td>nonexistent</td>\n",
              "      <td>9</td>\n",
              "      <td>8</td>\n",
              "    </tr>\n",
              "    <tr>\n",
              "      <th>2613</th>\n",
              "      <td>6 Avenue de la Porte Pouchet</td>\n",
              "      <td>1</td>\n",
              "      <td>0</td>\n",
              "      <td>0</td>\n",
              "      <td>0</td>\n",
              "      <td>nonexistent</td>\n",
              "      <td>Paris</td>\n",
              "      <td>paris-portepouchet-6</td>\n",
              "      <td>STATION</td>\n",
              "      <td>48.8979743, 2.323452</td>\n",
              "      <td>75017</td>\n",
              "      <td>Paris/Porte Pouchet/6</td>\n",
              "      <td>2</td>\n",
              "      <td>station</td>\n",
              "      <td>nonexistent</td>\n",
              "      <td>9</td>\n",
              "      <td>8</td>\n",
              "    </tr>\n",
              "  </tbody>\n",
              "</table>\n",
              "<p>2614 rows × 17 columns</p>\n",
              "</div>"
            ],
            "text/plain": [
              "                               Address  Bluecar_counter  ...  day  hour\n",
              "0                       73 Rue de Rome                0  ...    1    13\n",
              "1                   29 rue du Cotentin                0  ...    1    19\n",
              "2                  9 boulevard Bourdon                1  ...    1    14\n",
              "3                 12 Avenue de Messine                0  ...    1    16\n",
              "4         143 boulevard Vincent Auriol                0  ...    1    13\n",
              "...                                ...              ...  ...  ...   ...\n",
              "2609                 41 avenue Bosquet                4  ...    9    21\n",
              "2610    47 rue de la Grange aux Belles                0  ...    9    18\n",
              "2611               4 Rue de Montfaucon                0  ...    9     0\n",
              "2612  15 avenue du GÃ©nÃ©ral Laperrine                0  ...    9     8\n",
              "2613      6 Avenue de la Porte Pouchet                1  ...    9     8\n",
              "\n",
              "[2614 rows x 17 columns]"
            ]
          },
          "metadata": {
            "tags": []
          },
          "execution_count": 605
        }
      ]
    },
    {
      "cell_type": "code",
      "metadata": {
        "colab": {
          "base_uri": "https://localhost:8080/"
        },
        "id": "V5J4YbIjLnma",
        "outputId": "a838f3e8-cf93-4a78-f6a6-2907e6f8ed8a"
      },
      "source": [
        "# Determing the most popular hour for picking up a car\n",
        "group = paris['Bluecar_counter'].groupby(paris['hour'])\n",
        "group.mean().sort_values(ascending=True).head(1)"
      ],
      "execution_count": 606,
      "outputs": [
        {
          "output_type": "execute_result",
          "data": {
            "text/plain": [
              "hour\n",
              "20    1.475248\n",
              "Name: Bluecar_counter, dtype: float64"
            ]
          },
          "metadata": {
            "tags": []
          },
          "execution_count": 606
        }
      ]
    },
    {
      "cell_type": "markdown",
      "metadata": {
        "id": "oTOnnOh3OwlE"
      },
      "source": [
        "### 5.2 What is the most popular hour for returning cars?"
      ]
    },
    {
      "cell_type": "code",
      "metadata": {
        "colab": {
          "base_uri": "https://localhost:8080/"
        },
        "id": "tOJnsCaROI-u",
        "outputId": "244117ba-5d5e-4bdd-c41f-e5988f47f6f5"
      },
      "source": [
        "# Determing the most popular hour for returning a car\n",
        "group = paris['Bluecar_counter'].groupby(paris['hour'])\n",
        "group.mean().sort_values(ascending=False).head(1)"
      ],
      "execution_count": 607,
      "outputs": [
        {
          "output_type": "execute_result",
          "data": {
            "text/plain": [
              "hour\n",
              "12    2.232143\n",
              "Name: Bluecar_counter, dtype: float64"
            ]
          },
          "metadata": {
            "tags": []
          },
          "execution_count": 607
        }
      ]
    },
    {
      "cell_type": "markdown",
      "metadata": {
        "id": "ZVoO4ABKPVGp"
      },
      "source": [
        "### 5.3 What station is the most popular?"
      ]
    },
    {
      "cell_type": "code",
      "metadata": {
        "colab": {
          "base_uri": "https://localhost:8080/",
          "height": 968
        },
        "id": "7uwI1VfuP-Af",
        "outputId": "92a983bd-ea9f-4c52-cf6e-6b82ce9a5b2c"
      },
      "source": [
        "# previewing the general dataset\n",
        "preview(15)"
      ],
      "execution_count": 608,
      "outputs": [
        {
          "output_type": "execute_result",
          "data": {
            "text/html": [
              "<div>\n",
              "<style scoped>\n",
              "    .dataframe tbody tr th:only-of-type {\n",
              "        vertical-align: middle;\n",
              "    }\n",
              "\n",
              "    .dataframe tbody tr th {\n",
              "        vertical-align: top;\n",
              "    }\n",
              "\n",
              "    .dataframe thead th {\n",
              "        text-align: right;\n",
              "    }\n",
              "</style>\n",
              "<table border=\"1\" class=\"dataframe\">\n",
              "  <thead>\n",
              "    <tr style=\"text-align: right;\">\n",
              "      <th></th>\n",
              "      <th>Address</th>\n",
              "      <th>Bluecar_counter</th>\n",
              "      <th>Utilib_counter</th>\n",
              "      <th>Utilib_1.4_counter</th>\n",
              "      <th>Charge_Slots</th>\n",
              "      <th>Charging_Status</th>\n",
              "      <th>City</th>\n",
              "      <th>ID</th>\n",
              "      <th>Kind</th>\n",
              "      <th>Geo_point</th>\n",
              "      <th>Postal_code</th>\n",
              "      <th>Public_name</th>\n",
              "      <th>Slots</th>\n",
              "      <th>Station_type</th>\n",
              "      <th>Subscription_status</th>\n",
              "      <th>day</th>\n",
              "      <th>hour</th>\n",
              "    </tr>\n",
              "  </thead>\n",
              "  <tbody>\n",
              "    <tr>\n",
              "      <th>0</th>\n",
              "      <td>2 Avenue de Suffren</td>\n",
              "      <td>0</td>\n",
              "      <td>0</td>\n",
              "      <td>0</td>\n",
              "      <td>0</td>\n",
              "      <td>nonexistent</td>\n",
              "      <td>Paris</td>\n",
              "      <td>paris-suffren-2</td>\n",
              "      <td>STATION</td>\n",
              "      <td>48.857, 2.2917</td>\n",
              "      <td>75015</td>\n",
              "      <td>Paris/Suffren/2</td>\n",
              "      <td>2</td>\n",
              "      <td>station</td>\n",
              "      <td>nonexistent</td>\n",
              "      <td>8</td>\n",
              "      <td>11</td>\n",
              "    </tr>\n",
              "    <tr>\n",
              "      <th>1</th>\n",
              "      <td>145 Rue Raymond Losserand</td>\n",
              "      <td>6</td>\n",
              "      <td>0</td>\n",
              "      <td>0</td>\n",
              "      <td>0</td>\n",
              "      <td>operational</td>\n",
              "      <td>Paris</td>\n",
              "      <td>paris-raymondlosserand-145</td>\n",
              "      <td>STATION</td>\n",
              "      <td>48.83126, 2.313088</td>\n",
              "      <td>75014</td>\n",
              "      <td>Paris/Raymond Losserand/145</td>\n",
              "      <td>0</td>\n",
              "      <td>station</td>\n",
              "      <td>nonexistent</td>\n",
              "      <td>6</td>\n",
              "      <td>7</td>\n",
              "    </tr>\n",
              "    <tr>\n",
              "      <th>2</th>\n",
              "      <td>2 Avenue John Fitzgerald Kennedy</td>\n",
              "      <td>3</td>\n",
              "      <td>0</td>\n",
              "      <td>2</td>\n",
              "      <td>0</td>\n",
              "      <td>operational</td>\n",
              "      <td>Le Bourget</td>\n",
              "      <td>lebourget-johnfitzgeraldkennedy-2</td>\n",
              "      <td>STATION</td>\n",
              "      <td>48.938103, 2.4286035</td>\n",
              "      <td>93350</td>\n",
              "      <td>Le Bourget/John Fitzgerald Kennedy/2</td>\n",
              "      <td>1</td>\n",
              "      <td>station</td>\n",
              "      <td>nonexistent</td>\n",
              "      <td>3</td>\n",
              "      <td>20</td>\n",
              "    </tr>\n",
              "    <tr>\n",
              "      <th>3</th>\n",
              "      <td>51 Rue EugÃ¨ne OudinÃ©</td>\n",
              "      <td>3</td>\n",
              "      <td>1</td>\n",
              "      <td>0</td>\n",
              "      <td>1</td>\n",
              "      <td>operational</td>\n",
              "      <td>Paris</td>\n",
              "      <td>paris-eugeneoudine-51</td>\n",
              "      <td>STATION</td>\n",
              "      <td>48.8250327, 2.3725162</td>\n",
              "      <td>75013</td>\n",
              "      <td>Paris/EugÃ¨ne OudinÃ©/51</td>\n",
              "      <td>2</td>\n",
              "      <td>station</td>\n",
              "      <td>nonexistent</td>\n",
              "      <td>4</td>\n",
              "      <td>4</td>\n",
              "    </tr>\n",
              "    <tr>\n",
              "      <th>4</th>\n",
              "      <td>6 avenue de la Porte de Champerret</td>\n",
              "      <td>3</td>\n",
              "      <td>0</td>\n",
              "      <td>0</td>\n",
              "      <td>0</td>\n",
              "      <td>nonexistent</td>\n",
              "      <td>Paris</td>\n",
              "      <td>paris-portedechamperret-6</td>\n",
              "      <td>PARKING</td>\n",
              "      <td>48.8862632, 2.2874511</td>\n",
              "      <td>75017</td>\n",
              "      <td>Paris/Porte de Champerret/6</td>\n",
              "      <td>3</td>\n",
              "      <td>station</td>\n",
              "      <td>nonexistent</td>\n",
              "      <td>8</td>\n",
              "      <td>17</td>\n",
              "    </tr>\n",
              "    <tr>\n",
              "      <th>5</th>\n",
              "      <td>8 Boulevard Voltaire</td>\n",
              "      <td>0</td>\n",
              "      <td>0</td>\n",
              "      <td>0</td>\n",
              "      <td>0</td>\n",
              "      <td>nonexistent</td>\n",
              "      <td>Paris</td>\n",
              "      <td>paris-voltaire-8</td>\n",
              "      <td>STATION</td>\n",
              "      <td>48.8657658, 2.3664376</td>\n",
              "      <td>75011</td>\n",
              "      <td>Paris/Voltaire/8</td>\n",
              "      <td>4</td>\n",
              "      <td>station</td>\n",
              "      <td>nonexistent</td>\n",
              "      <td>6</td>\n",
              "      <td>7</td>\n",
              "    </tr>\n",
              "    <tr>\n",
              "      <th>6</th>\n",
              "      <td>17 Rue des Luaps ProlongÃ©e</td>\n",
              "      <td>3</td>\n",
              "      <td>1</td>\n",
              "      <td>0</td>\n",
              "      <td>0</td>\n",
              "      <td>nonexistent</td>\n",
              "      <td>Nanterre</td>\n",
              "      <td>nanterre-luaps-17</td>\n",
              "      <td>STATION</td>\n",
              "      <td>48.88069, 2.21063</td>\n",
              "      <td>92000</td>\n",
              "      <td>Nanterre/Luaps/17</td>\n",
              "      <td>0</td>\n",
              "      <td>station</td>\n",
              "      <td>nonexistent</td>\n",
              "      <td>4</td>\n",
              "      <td>22</td>\n",
              "    </tr>\n",
              "    <tr>\n",
              "      <th>7</th>\n",
              "      <td>34 avenue Jean Moulin</td>\n",
              "      <td>1</td>\n",
              "      <td>0</td>\n",
              "      <td>0</td>\n",
              "      <td>0</td>\n",
              "      <td>nonexistent</td>\n",
              "      <td>Paris</td>\n",
              "      <td>paris-jeanmoulin-34</td>\n",
              "      <td>STATION</td>\n",
              "      <td>48.8266807, 2.3237355</td>\n",
              "      <td>75014</td>\n",
              "      <td>Paris/Jean Moulin/34</td>\n",
              "      <td>4</td>\n",
              "      <td>station</td>\n",
              "      <td>nonexistent</td>\n",
              "      <td>2</td>\n",
              "      <td>22</td>\n",
              "    </tr>\n",
              "    <tr>\n",
              "      <th>8</th>\n",
              "      <td>41 boulevard de Rochechouart</td>\n",
              "      <td>6</td>\n",
              "      <td>0</td>\n",
              "      <td>0</td>\n",
              "      <td>0</td>\n",
              "      <td>nonexistent</td>\n",
              "      <td>Paris</td>\n",
              "      <td>paris-anvers-parking</td>\n",
              "      <td>PARKING</td>\n",
              "      <td>48.88267, 2.34405</td>\n",
              "      <td>75009</td>\n",
              "      <td>Paris/Anvers/Parking</td>\n",
              "      <td>0</td>\n",
              "      <td>station</td>\n",
              "      <td>nonexistent</td>\n",
              "      <td>4</td>\n",
              "      <td>15</td>\n",
              "    </tr>\n",
              "    <tr>\n",
              "      <th>9</th>\n",
              "      <td>14 rue Censier</td>\n",
              "      <td>0</td>\n",
              "      <td>0</td>\n",
              "      <td>0</td>\n",
              "      <td>2</td>\n",
              "      <td>operational</td>\n",
              "      <td>Paris</td>\n",
              "      <td>paris-censier-14</td>\n",
              "      <td>STATION</td>\n",
              "      <td>48.8411067, 2.3544235</td>\n",
              "      <td>75005</td>\n",
              "      <td>Paris/Censier/14</td>\n",
              "      <td>6</td>\n",
              "      <td>station</td>\n",
              "      <td>nonexistent</td>\n",
              "      <td>1</td>\n",
              "      <td>4</td>\n",
              "    </tr>\n",
              "    <tr>\n",
              "      <th>10</th>\n",
              "      <td>12 Rue Francis de PressensÃ©</td>\n",
              "      <td>1</td>\n",
              "      <td>0</td>\n",
              "      <td>0</td>\n",
              "      <td>0</td>\n",
              "      <td>nonexistent</td>\n",
              "      <td>Puteaux</td>\n",
              "      <td>puteaux-francisdepressense-12</td>\n",
              "      <td>STATION</td>\n",
              "      <td>48.8761876, 2.2361346</td>\n",
              "      <td>92800</td>\n",
              "      <td>Puteaux/Francis de PressensÃ©/12</td>\n",
              "      <td>4</td>\n",
              "      <td>station</td>\n",
              "      <td>nonexistent</td>\n",
              "      <td>6</td>\n",
              "      <td>9</td>\n",
              "    </tr>\n",
              "    <tr>\n",
              "      <th>11</th>\n",
              "      <td>6 avenue de la Porte de Champerret</td>\n",
              "      <td>5</td>\n",
              "      <td>1</td>\n",
              "      <td>0</td>\n",
              "      <td>0</td>\n",
              "      <td>nonexistent</td>\n",
              "      <td>Paris</td>\n",
              "      <td>paris-portedechamperret-6</td>\n",
              "      <td>PARKING</td>\n",
              "      <td>48.8862632, 2.2874511</td>\n",
              "      <td>75017</td>\n",
              "      <td>Paris/Porte de Champerret/6</td>\n",
              "      <td>0</td>\n",
              "      <td>station</td>\n",
              "      <td>nonexistent</td>\n",
              "      <td>5</td>\n",
              "      <td>12</td>\n",
              "    </tr>\n",
              "    <tr>\n",
              "      <th>12</th>\n",
              "      <td>34 avenue Jean Moulin</td>\n",
              "      <td>0</td>\n",
              "      <td>0</td>\n",
              "      <td>0</td>\n",
              "      <td>0</td>\n",
              "      <td>nonexistent</td>\n",
              "      <td>Paris</td>\n",
              "      <td>paris-jeanmoulin-34</td>\n",
              "      <td>STATION</td>\n",
              "      <td>48.8266807, 2.3237355</td>\n",
              "      <td>75014</td>\n",
              "      <td>Paris/Jean Moulin/34</td>\n",
              "      <td>0</td>\n",
              "      <td>station</td>\n",
              "      <td>nonexistent</td>\n",
              "      <td>8</td>\n",
              "      <td>21</td>\n",
              "    </tr>\n",
              "    <tr>\n",
              "      <th>13</th>\n",
              "      <td>8 Boulevard Richard Lenoir</td>\n",
              "      <td>0</td>\n",
              "      <td>0</td>\n",
              "      <td>0</td>\n",
              "      <td>1</td>\n",
              "      <td>operational</td>\n",
              "      <td>Paris</td>\n",
              "      <td>paris-richardlenoir-8</td>\n",
              "      <td>STATION</td>\n",
              "      <td>48.8545026, 2.370183</td>\n",
              "      <td>75011</td>\n",
              "      <td>Paris/Richard Lenoir/8</td>\n",
              "      <td>4</td>\n",
              "      <td>station</td>\n",
              "      <td>nonexistent</td>\n",
              "      <td>6</td>\n",
              "      <td>8</td>\n",
              "    </tr>\n",
              "    <tr>\n",
              "      <th>14</th>\n",
              "      <td>3 rue Jean JaurÃ¨s</td>\n",
              "      <td>0</td>\n",
              "      <td>0</td>\n",
              "      <td>0</td>\n",
              "      <td>0</td>\n",
              "      <td>nonexistent</td>\n",
              "      <td>Fontenay-aux-Roses</td>\n",
              "      <td>fontenayauxroses-jeanjaures-3</td>\n",
              "      <td>SPACE</td>\n",
              "      <td>48.7906824, 2.28727</td>\n",
              "      <td>92260</td>\n",
              "      <td>Fontenay-aux-Roses/Jean JaurÃ¨s/3</td>\n",
              "      <td>4</td>\n",
              "      <td>full_station</td>\n",
              "      <td>operational</td>\n",
              "      <td>2</td>\n",
              "      <td>0</td>\n",
              "    </tr>\n",
              "  </tbody>\n",
              "</table>\n",
              "</div>"
            ],
            "text/plain": [
              "                               Address  Bluecar_counter  ...  day  hour\n",
              "0                  2 Avenue de Suffren                0  ...    8    11\n",
              "1            145 Rue Raymond Losserand                6  ...    6     7\n",
              "2     2 Avenue John Fitzgerald Kennedy                3  ...    3    20\n",
              "3               51 Rue EugÃ¨ne OudinÃ©                3  ...    4     4\n",
              "4   6 avenue de la Porte de Champerret                3  ...    8    17\n",
              "5                 8 Boulevard Voltaire                0  ...    6     7\n",
              "6          17 Rue des Luaps ProlongÃ©e                3  ...    4    22\n",
              "7                34 avenue Jean Moulin                1  ...    2    22\n",
              "8         41 boulevard de Rochechouart                6  ...    4    15\n",
              "9                       14 rue Censier                0  ...    1     4\n",
              "10        12 Rue Francis de PressensÃ©                1  ...    6     9\n",
              "11  6 avenue de la Porte de Champerret                5  ...    5    12\n",
              "12               34 avenue Jean Moulin                0  ...    8    21\n",
              "13          8 Boulevard Richard Lenoir                0  ...    6     8\n",
              "14                  3 rue Jean JaurÃ¨s                0  ...    2     0\n",
              "\n",
              "[15 rows x 17 columns]"
            ]
          },
          "metadata": {
            "tags": []
          },
          "execution_count": 608
        }
      ]
    },
    {
      "cell_type": "markdown",
      "metadata": {
        "id": "Nbm4H-omPb_v"
      },
      "source": [
        "#### 5.3.1 Overall?"
      ]
    },
    {
      "cell_type": "code",
      "metadata": {
        "colab": {
          "base_uri": "https://localhost:8080/"
        },
        "id": "85cSuFNqQEEX",
        "outputId": "7f511947-43d1-4d0b-b80f-d635ed6dd4ce"
      },
      "source": [
        "# Determing the most popular station for picking up a car\n",
        "group = df['Bluecar_counter'].groupby(df['Public_name'])\n",
        "group.mean().sort_values(ascending=True).head(1)"
      ],
      "execution_count": 609,
      "outputs": [
        {
          "output_type": "execute_result",
          "data": {
            "text/plain": [
              "Public_name\n",
              "Paris/Maine/4    0.0\n",
              "Name: Bluecar_counter, dtype: float64"
            ]
          },
          "metadata": {
            "tags": []
          },
          "execution_count": 609
        }
      ]
    },
    {
      "cell_type": "markdown",
      "metadata": {
        "id": "cpKL2laSRwnO"
      },
      "source": [
        "#### 5.3.2 At the most popular picking hour?"
      ]
    },
    {
      "cell_type": "code",
      "metadata": {
        "colab": {
          "base_uri": "https://localhost:8080/"
        },
        "id": "Ic4dEFGnR10J",
        "outputId": "11db1776-c49b-4820-958e-22d85f0c1a82"
      },
      "source": [
        "# Determing the most popular hour for picking up a car\n",
        "group = df['Bluecar_counter'].groupby(df['hour'])\n",
        "group.mean().sort_values(ascending=True).head(1)"
      ],
      "execution_count": 610,
      "outputs": [
        {
          "output_type": "execute_result",
          "data": {
            "text/plain": [
              "hour\n",
              "19    2.058511\n",
              "Name: Bluecar_counter, dtype: float64"
            ]
          },
          "metadata": {
            "tags": []
          },
          "execution_count": 610
        }
      ]
    },
    {
      "cell_type": "markdown",
      "metadata": {
        "id": "mABmeaO2S_Vn"
      },
      "source": [
        "### 5.4 What postal code is the most popular for picking up Blue cars? Does the most popular station belong to that postal code?"
      ]
    },
    {
      "cell_type": "code",
      "metadata": {
        "colab": {
          "base_uri": "https://localhost:8080/"
        },
        "id": "7gh1940JTDab",
        "outputId": "9ac10f19-dca2-4461-fac1-118371641f16"
      },
      "source": [
        "# Determing the most popular Postal_code for picking up a car\n",
        "group = df['Bluecar_counter'].groupby(df['Postal_code'])\n",
        "group.mean().sort_values(ascending=True).head(1)"
      ],
      "execution_count": 611,
      "outputs": [
        {
          "output_type": "execute_result",
          "data": {
            "text/plain": [
              "Postal_code\n",
              "75001    0.659574\n",
              "Name: Bluecar_counter, dtype: float64"
            ]
          },
          "metadata": {
            "tags": []
          },
          "execution_count": 611
        }
      ]
    },
    {
      "cell_type": "code",
      "metadata": {
        "colab": {
          "base_uri": "https://localhost:8080/"
        },
        "id": "I6_i8dK5TyT2",
        "outputId": "b87ae0af-2bce-44dc-ee43-0a92c014edb4"
      },
      "source": [
        "# Checking if it matches with the most popular station name\n",
        "df2 = df[(df['Public_name'] == 'Paris/Maine/4')]\n",
        "df2['Postal_code']"
      ],
      "execution_count": 612,
      "outputs": [
        {
          "output_type": "execute_result",
          "data": {
            "text/plain": [
              "885    75015\n",
              "Name: Postal_code, dtype: int64"
            ]
          },
          "metadata": {
            "tags": []
          },
          "execution_count": 612
        }
      ]
    },
    {
      "cell_type": "markdown",
      "metadata": {
        "id": "CU6KWkXUXAZG"
      },
      "source": [
        "## 5.0 Data anlaysis 2"
      ]
    },
    {
      "cell_type": "markdown",
      "metadata": {
        "id": "3ie4qJmZZmN3"
      },
      "source": [
        "**Functions**"
      ]
    },
    {
      "cell_type": "code",
      "metadata": {
        "id": "EwDvBtIgXKN0"
      },
      "source": [
        "# function for determing the most popular hour for picking \n",
        "# a car\n",
        "def pop_hour():\n",
        "    column = str(input(\"Which colum do you want to select: \"))\n",
        "    group = str(input(\"Input the column to group by: \"))\n",
        "    group = df[column].groupby(df[group])\n",
        "    return group.mean().sort_values(ascending=True).head(1)"
      ],
      "execution_count": 613,
      "outputs": []
    },
    {
      "cell_type": "code",
      "metadata": {
        "id": "M8CeiLpWX0-X"
      },
      "source": [
        "# function for determing the most popular station\n",
        "# for picking up a car\n",
        "def pop_station():\n",
        "    column = str(input(\"Which column do you want to select: \"))\n",
        "    group = str(input(\"Input the column to group by: \"))\n",
        "    group = df[column].groupby(df[group])\n",
        "    return group.mean().sort_values(ascending=True).head(1)"
      ],
      "execution_count": 614,
      "outputs": []
    },
    {
      "cell_type": "code",
      "metadata": {
        "id": "82PiUi9JYWW7"
      },
      "source": [
        "# function for determing the most popular hour\n",
        "# for returning a car\n",
        "def pop_return_hour():\n",
        "    column = str(input(\"Which column do you want to select: \"))\n",
        "    group = str(input(\"Input the column to group by: \"))\n",
        "    group = df[column].groupby(df[group])\n",
        "    return group.mean().sort_values(ascending=False).head(1)"
      ],
      "execution_count": 615,
      "outputs": []
    },
    {
      "cell_type": "code",
      "metadata": {
        "id": "fyOXMOJiYqhZ"
      },
      "source": [
        "# function for determing the most popular postal code\n",
        "# for picking up a car\n",
        "def pop_postal_code():\n",
        "    column = str(input(\"Which column do you want to select: \"))\n",
        "    group = str(input(\"Input the column to group by: \"))\n",
        "    group = df[column].groupby(df[group])\n",
        "    return group.mean().sort_values(ascending=True).head(1)"
      ],
      "execution_count": 616,
      "outputs": []
    },
    {
      "cell_type": "markdown",
      "metadata": {
        "id": "v5KQeIYhY1sq"
      },
      "source": [
        "### Using Utilib_counter"
      ]
    },
    {
      "cell_type": "code",
      "metadata": {
        "colab": {
          "base_uri": "https://localhost:8080/",
          "height": 662
        },
        "id": "STgqa5uqZfzf",
        "outputId": "445672f0-9c0c-4a86-91fd-1c8a1e1a9460"
      },
      "source": [
        "preview(10)"
      ],
      "execution_count": 617,
      "outputs": [
        {
          "output_type": "execute_result",
          "data": {
            "text/html": [
              "<div>\n",
              "<style scoped>\n",
              "    .dataframe tbody tr th:only-of-type {\n",
              "        vertical-align: middle;\n",
              "    }\n",
              "\n",
              "    .dataframe tbody tr th {\n",
              "        vertical-align: top;\n",
              "    }\n",
              "\n",
              "    .dataframe thead th {\n",
              "        text-align: right;\n",
              "    }\n",
              "</style>\n",
              "<table border=\"1\" class=\"dataframe\">\n",
              "  <thead>\n",
              "    <tr style=\"text-align: right;\">\n",
              "      <th></th>\n",
              "      <th>Address</th>\n",
              "      <th>Bluecar_counter</th>\n",
              "      <th>Utilib_counter</th>\n",
              "      <th>Utilib_1.4_counter</th>\n",
              "      <th>Charge_Slots</th>\n",
              "      <th>Charging_Status</th>\n",
              "      <th>City</th>\n",
              "      <th>ID</th>\n",
              "      <th>Kind</th>\n",
              "      <th>Geo_point</th>\n",
              "      <th>Postal_code</th>\n",
              "      <th>Public_name</th>\n",
              "      <th>Slots</th>\n",
              "      <th>Station_type</th>\n",
              "      <th>Subscription_status</th>\n",
              "      <th>day</th>\n",
              "      <th>hour</th>\n",
              "    </tr>\n",
              "  </thead>\n",
              "  <tbody>\n",
              "    <tr>\n",
              "      <th>0</th>\n",
              "      <td>2 Avenue de Suffren</td>\n",
              "      <td>0</td>\n",
              "      <td>0</td>\n",
              "      <td>0</td>\n",
              "      <td>0</td>\n",
              "      <td>nonexistent</td>\n",
              "      <td>Paris</td>\n",
              "      <td>paris-suffren-2</td>\n",
              "      <td>STATION</td>\n",
              "      <td>48.857, 2.2917</td>\n",
              "      <td>75015</td>\n",
              "      <td>Paris/Suffren/2</td>\n",
              "      <td>2</td>\n",
              "      <td>station</td>\n",
              "      <td>nonexistent</td>\n",
              "      <td>8</td>\n",
              "      <td>11</td>\n",
              "    </tr>\n",
              "    <tr>\n",
              "      <th>1</th>\n",
              "      <td>145 Rue Raymond Losserand</td>\n",
              "      <td>6</td>\n",
              "      <td>0</td>\n",
              "      <td>0</td>\n",
              "      <td>0</td>\n",
              "      <td>operational</td>\n",
              "      <td>Paris</td>\n",
              "      <td>paris-raymondlosserand-145</td>\n",
              "      <td>STATION</td>\n",
              "      <td>48.83126, 2.313088</td>\n",
              "      <td>75014</td>\n",
              "      <td>Paris/Raymond Losserand/145</td>\n",
              "      <td>0</td>\n",
              "      <td>station</td>\n",
              "      <td>nonexistent</td>\n",
              "      <td>6</td>\n",
              "      <td>7</td>\n",
              "    </tr>\n",
              "    <tr>\n",
              "      <th>2</th>\n",
              "      <td>2 Avenue John Fitzgerald Kennedy</td>\n",
              "      <td>3</td>\n",
              "      <td>0</td>\n",
              "      <td>2</td>\n",
              "      <td>0</td>\n",
              "      <td>operational</td>\n",
              "      <td>Le Bourget</td>\n",
              "      <td>lebourget-johnfitzgeraldkennedy-2</td>\n",
              "      <td>STATION</td>\n",
              "      <td>48.938103, 2.4286035</td>\n",
              "      <td>93350</td>\n",
              "      <td>Le Bourget/John Fitzgerald Kennedy/2</td>\n",
              "      <td>1</td>\n",
              "      <td>station</td>\n",
              "      <td>nonexistent</td>\n",
              "      <td>3</td>\n",
              "      <td>20</td>\n",
              "    </tr>\n",
              "    <tr>\n",
              "      <th>3</th>\n",
              "      <td>51 Rue EugÃ¨ne OudinÃ©</td>\n",
              "      <td>3</td>\n",
              "      <td>1</td>\n",
              "      <td>0</td>\n",
              "      <td>1</td>\n",
              "      <td>operational</td>\n",
              "      <td>Paris</td>\n",
              "      <td>paris-eugeneoudine-51</td>\n",
              "      <td>STATION</td>\n",
              "      <td>48.8250327, 2.3725162</td>\n",
              "      <td>75013</td>\n",
              "      <td>Paris/EugÃ¨ne OudinÃ©/51</td>\n",
              "      <td>2</td>\n",
              "      <td>station</td>\n",
              "      <td>nonexistent</td>\n",
              "      <td>4</td>\n",
              "      <td>4</td>\n",
              "    </tr>\n",
              "    <tr>\n",
              "      <th>4</th>\n",
              "      <td>6 avenue de la Porte de Champerret</td>\n",
              "      <td>3</td>\n",
              "      <td>0</td>\n",
              "      <td>0</td>\n",
              "      <td>0</td>\n",
              "      <td>nonexistent</td>\n",
              "      <td>Paris</td>\n",
              "      <td>paris-portedechamperret-6</td>\n",
              "      <td>PARKING</td>\n",
              "      <td>48.8862632, 2.2874511</td>\n",
              "      <td>75017</td>\n",
              "      <td>Paris/Porte de Champerret/6</td>\n",
              "      <td>3</td>\n",
              "      <td>station</td>\n",
              "      <td>nonexistent</td>\n",
              "      <td>8</td>\n",
              "      <td>17</td>\n",
              "    </tr>\n",
              "    <tr>\n",
              "      <th>5</th>\n",
              "      <td>8 Boulevard Voltaire</td>\n",
              "      <td>0</td>\n",
              "      <td>0</td>\n",
              "      <td>0</td>\n",
              "      <td>0</td>\n",
              "      <td>nonexistent</td>\n",
              "      <td>Paris</td>\n",
              "      <td>paris-voltaire-8</td>\n",
              "      <td>STATION</td>\n",
              "      <td>48.8657658, 2.3664376</td>\n",
              "      <td>75011</td>\n",
              "      <td>Paris/Voltaire/8</td>\n",
              "      <td>4</td>\n",
              "      <td>station</td>\n",
              "      <td>nonexistent</td>\n",
              "      <td>6</td>\n",
              "      <td>7</td>\n",
              "    </tr>\n",
              "    <tr>\n",
              "      <th>6</th>\n",
              "      <td>17 Rue des Luaps ProlongÃ©e</td>\n",
              "      <td>3</td>\n",
              "      <td>1</td>\n",
              "      <td>0</td>\n",
              "      <td>0</td>\n",
              "      <td>nonexistent</td>\n",
              "      <td>Nanterre</td>\n",
              "      <td>nanterre-luaps-17</td>\n",
              "      <td>STATION</td>\n",
              "      <td>48.88069, 2.21063</td>\n",
              "      <td>92000</td>\n",
              "      <td>Nanterre/Luaps/17</td>\n",
              "      <td>0</td>\n",
              "      <td>station</td>\n",
              "      <td>nonexistent</td>\n",
              "      <td>4</td>\n",
              "      <td>22</td>\n",
              "    </tr>\n",
              "    <tr>\n",
              "      <th>7</th>\n",
              "      <td>34 avenue Jean Moulin</td>\n",
              "      <td>1</td>\n",
              "      <td>0</td>\n",
              "      <td>0</td>\n",
              "      <td>0</td>\n",
              "      <td>nonexistent</td>\n",
              "      <td>Paris</td>\n",
              "      <td>paris-jeanmoulin-34</td>\n",
              "      <td>STATION</td>\n",
              "      <td>48.8266807, 2.3237355</td>\n",
              "      <td>75014</td>\n",
              "      <td>Paris/Jean Moulin/34</td>\n",
              "      <td>4</td>\n",
              "      <td>station</td>\n",
              "      <td>nonexistent</td>\n",
              "      <td>2</td>\n",
              "      <td>22</td>\n",
              "    </tr>\n",
              "    <tr>\n",
              "      <th>8</th>\n",
              "      <td>41 boulevard de Rochechouart</td>\n",
              "      <td>6</td>\n",
              "      <td>0</td>\n",
              "      <td>0</td>\n",
              "      <td>0</td>\n",
              "      <td>nonexistent</td>\n",
              "      <td>Paris</td>\n",
              "      <td>paris-anvers-parking</td>\n",
              "      <td>PARKING</td>\n",
              "      <td>48.88267, 2.34405</td>\n",
              "      <td>75009</td>\n",
              "      <td>Paris/Anvers/Parking</td>\n",
              "      <td>0</td>\n",
              "      <td>station</td>\n",
              "      <td>nonexistent</td>\n",
              "      <td>4</td>\n",
              "      <td>15</td>\n",
              "    </tr>\n",
              "    <tr>\n",
              "      <th>9</th>\n",
              "      <td>14 rue Censier</td>\n",
              "      <td>0</td>\n",
              "      <td>0</td>\n",
              "      <td>0</td>\n",
              "      <td>2</td>\n",
              "      <td>operational</td>\n",
              "      <td>Paris</td>\n",
              "      <td>paris-censier-14</td>\n",
              "      <td>STATION</td>\n",
              "      <td>48.8411067, 2.3544235</td>\n",
              "      <td>75005</td>\n",
              "      <td>Paris/Censier/14</td>\n",
              "      <td>6</td>\n",
              "      <td>station</td>\n",
              "      <td>nonexistent</td>\n",
              "      <td>1</td>\n",
              "      <td>4</td>\n",
              "    </tr>\n",
              "  </tbody>\n",
              "</table>\n",
              "</div>"
            ],
            "text/plain": [
              "                              Address  Bluecar_counter  ...  day  hour\n",
              "0                 2 Avenue de Suffren                0  ...    8    11\n",
              "1           145 Rue Raymond Losserand                6  ...    6     7\n",
              "2    2 Avenue John Fitzgerald Kennedy                3  ...    3    20\n",
              "3              51 Rue EugÃ¨ne OudinÃ©                3  ...    4     4\n",
              "4  6 avenue de la Porte de Champerret                3  ...    8    17\n",
              "5                8 Boulevard Voltaire                0  ...    6     7\n",
              "6         17 Rue des Luaps ProlongÃ©e                3  ...    4    22\n",
              "7               34 avenue Jean Moulin                1  ...    2    22\n",
              "8        41 boulevard de Rochechouart                6  ...    4    15\n",
              "9                      14 rue Censier                0  ...    1     4\n",
              "\n",
              "[10 rows x 17 columns]"
            ]
          },
          "metadata": {
            "tags": []
          },
          "execution_count": 617
        }
      ]
    },
    {
      "cell_type": "markdown",
      "metadata": {
        "id": "jRj5Sze7ZZ-e"
      },
      "source": [
        "### 5.1 What is the most popular hour for returning cars?"
      ]
    },
    {
      "cell_type": "code",
      "metadata": {
        "colab": {
          "base_uri": "https://localhost:8080/"
        },
        "id": "AraSF9FbZMSy",
        "outputId": "ea645fff-9b4c-4711-e84f-1bdee3cda4be"
      },
      "source": [
        "pop_return_hour()"
      ],
      "execution_count": 619,
      "outputs": [
        {
          "output_type": "stream",
          "text": [
            "Which column do you want to select: Utilib_counter\n",
            "Input the column to group by: hour\n"
          ],
          "name": "stdout"
        },
        {
          "output_type": "execute_result",
          "data": {
            "text/plain": [
              "hour\n",
              "8    0.097938\n",
              "Name: Utilib_counter, dtype: float64"
            ]
          },
          "metadata": {
            "tags": []
          },
          "execution_count": 619
        }
      ]
    },
    {
      "cell_type": "markdown",
      "metadata": {
        "id": "h3zWlLsaaqy4"
      },
      "source": [
        "### 5.2 What station is the most popular?"
      ]
    },
    {
      "cell_type": "code",
      "metadata": {
        "colab": {
          "base_uri": "https://localhost:8080/"
        },
        "id": "MKHv3yPWas13",
        "outputId": "a28c763f-f08d-4f7e-e5bc-8fc7dea0120a"
      },
      "source": [
        "pop_station()"
      ],
      "execution_count": 621,
      "outputs": [
        {
          "output_type": "stream",
          "text": [
            "Which column do you want to select: Utilib_counter\n",
            "Input the column to group by: Public_name\n"
          ],
          "name": "stdout"
        },
        {
          "output_type": "execute_result",
          "data": {
            "text/plain": [
              "Public_name\n",
              "Alfortville/Charles de Gaulle/16    0.0\n",
              "Name: Utilib_counter, dtype: float64"
            ]
          },
          "metadata": {
            "tags": []
          },
          "execution_count": 621
        }
      ]
    },
    {
      "cell_type": "markdown",
      "metadata": {
        "id": "mqQei3vSbNRe"
      },
      "source": [
        "### 5.2.1 The most popular picking hour"
      ]
    },
    {
      "cell_type": "code",
      "metadata": {
        "colab": {
          "base_uri": "https://localhost:8080/"
        },
        "id": "oI8XS03jbTr9",
        "outputId": "8226639e-bb4a-46c8-9b0f-aae2f9d0020b"
      },
      "source": [
        "pop_hour()"
      ],
      "execution_count": 623,
      "outputs": [
        {
          "output_type": "stream",
          "text": [
            "Which colum do you want to select: Utilib_counter\n",
            "Input the column to group by: hour\n"
          ],
          "name": "stdout"
        },
        {
          "output_type": "execute_result",
          "data": {
            "text/plain": [
              "hour\n",
              "23    0.010638\n",
              "Name: Utilib_counter, dtype: float64"
            ]
          },
          "metadata": {
            "tags": []
          },
          "execution_count": 623
        }
      ]
    },
    {
      "cell_type": "markdown",
      "metadata": {
        "id": "fs2g-zOSb3BC"
      },
      "source": [
        "### 5.3 What postal code is the most popular for picking up Blue cars? Does the most popular station belong to that postal code?"
      ]
    },
    {
      "cell_type": "code",
      "metadata": {
        "colab": {
          "base_uri": "https://localhost:8080/"
        },
        "id": "2nwzIYGvb7w6",
        "outputId": "6852b49e-8dcc-4b99-dc37-c7e0330a64d5"
      },
      "source": [
        "pop_postal_code()"
      ],
      "execution_count": 624,
      "outputs": [
        {
          "output_type": "stream",
          "text": [
            "Which column do you want to select: Utilib_counter\n",
            "Input the column to group by: Postal_code\n"
          ],
          "name": "stdout"
        },
        {
          "output_type": "execute_result",
          "data": {
            "text/plain": [
              "Postal_code\n",
              "92340    0.0\n",
              "Name: Utilib_counter, dtype: float64"
            ]
          },
          "metadata": {
            "tags": []
          },
          "execution_count": 624
        }
      ]
    },
    {
      "cell_type": "code",
      "metadata": {
        "colab": {
          "base_uri": "https://localhost:8080/"
        },
        "id": "Wce80P5RckKt",
        "outputId": "07089305-2da5-4c5f-d58c-caffe826c475"
      },
      "source": [
        "# Checking if it matches with the most popular station name\n",
        "df2 = df[(df['Public_name'] == 'Alfortville/Charles de Gaulle/16')]\n",
        "df2['Postal_code']"
      ],
      "execution_count": 625,
      "outputs": [
        {
          "output_type": "execute_result",
          "data": {
            "text/plain": [
              "1703    94140\n",
              "2474    94140\n",
              "2976    94140\n",
              "4092    94140\n",
              "4604    94140\n",
              "Name: Postal_code, dtype: int64"
            ]
          },
          "metadata": {
            "tags": []
          },
          "execution_count": 625
        }
      ]
    }
  ]
}